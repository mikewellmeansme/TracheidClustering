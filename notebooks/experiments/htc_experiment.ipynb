{
 "cells": [
  {
   "cell_type": "code",
   "execution_count": 14,
   "metadata": {},
   "outputs": [],
   "source": [
    "import sys \n",
    "sys.path.append('../..')"
   ]
  },
  {
   "cell_type": "code",
   "execution_count": 38,
   "metadata": {},
   "outputs": [],
   "source": [
    "import pandas as pd\n",
    "import numpy as np\n",
    "import matplotlib.pyplot as plt\n",
    "from scipy.stats import mstats"
   ]
  },
  {
   "cell_type": "code",
   "execution_count": 20,
   "metadata": {},
   "outputs": [],
   "source": [
    "min_temp_M = pd.read_excel('../../input/MinClimate_MODIFIED.xlsx', sheet_name='TEMP_MOD').drop(columns=['Week'])\n",
    "min_prec_M = pd.read_excel('../../input/MinClimate_MODIFIED.xlsx', sheet_name='PREC_MOD').drop(columns=['Week'])"
   ]
  },
  {
   "cell_type": "code",
   "execution_count": 22,
   "metadata": {},
   "outputs": [],
   "source": [
    "filtered_prec_10 = min_prec_M[min_temp_M>=10]\n",
    "filtered_prec_10['Month'] = min_prec_M['Month']\n",
    "filtered_prec_10['Day'] = min_prec_M['Day']\n",
    "filtered_temp_10 = min_temp_M[min_temp_M>=10]\n",
    "filtered_temp_10['Month'] = min_temp_M['Month']\n",
    "filtered_temp_10['Day'] = min_temp_M['Day']"
   ]
  },
  {
   "cell_type": "code",
   "execution_count": 23,
   "metadata": {},
   "outputs": [],
   "source": [
    "filtered_prec_5 = min_prec_M[min_temp_M>=5]\n",
    "filtered_prec_5['Month'] = min_prec_M['Month']\n",
    "filtered_prec_5['Day'] = min_prec_M['Day']\n",
    "filtered_temp_5 = min_temp_M[min_temp_M>=5]\n",
    "filtered_temp_5['Month'] = min_temp_M['Month']\n",
    "filtered_temp_5['Day'] = min_temp_M['Day']"
   ]
  },
  {
   "cell_type": "code",
   "execution_count": 24,
   "metadata": {},
   "outputs": [],
   "source": [
    "filtered_prec_0 = min_prec_M[min_temp_M>=0]\n",
    "filtered_prec_0['Month'] = min_prec_M['Month']\n",
    "filtered_prec_0['Day'] = min_prec_M['Day']\n",
    "filtered_temp_0 = min_temp_M[min_temp_M>=0]\n",
    "filtered_temp_0['Month'] = min_temp_M['Month']\n",
    "filtered_temp_0['Day'] = min_temp_M['Day']"
   ]
  },
  {
   "cell_type": "markdown",
   "metadata": {},
   "source": [
    "# Monthly"
   ]
  },
  {
   "cell_type": "code",
   "execution_count": 27,
   "metadata": {},
   "outputs": [],
   "source": [
    "monthly_htc_10 = pd.DataFrame({'Year':list(min_prec_M.columns[2:])})\n",
    "monthly_htc_5 = pd.DataFrame({'Year':list(min_prec_M.columns[2:])})\n",
    "monthly_htc_0 = pd.DataFrame({'Year':list(min_prec_M.columns[2:])})\n",
    "\n",
    "months = {\n",
    "    1: 'Jan',\n",
    "    2: 'Feb',\n",
    "    3: 'Mar',\n",
    "    4: 'Apr',\n",
    "    5: 'May',\n",
    "    6: 'Jun',\n",
    "    7: 'Jul',\n",
    "    8: 'Aug',\n",
    "    9: 'Sep',\n",
    "    10: 'Oct',\n",
    "    11: 'Nov',\n",
    "    12: 'Dec',\n",
    "    -1: 'Dec prev',\n",
    "    -2: 'Nov prev',\n",
    "    -3: 'Oct prev',\n",
    "    -4: 'Sep prev',\n",
    "    -5: 'Aug prev',\n",
    "}\n",
    "\n",
    "for i in months.keys():\n",
    "    monthly_htc_10[months[i]] = list(filtered_prec_10[filtered_prec_10['Month']==i].sum(skipna=True)[2:] * 10 / filtered_temp_10[filtered_temp_10['Month']==i].sum(skipna=True)[2:])\n",
    "    monthly_htc_5[months[i]] = list(filtered_prec_5[filtered_prec_5['Month']==i].sum(skipna=True)[2:] * 10 / filtered_temp_5[filtered_temp_5['Month']==i].sum(skipna=True)[2:])\n",
    "    monthly_htc_0[months[i]] = list(filtered_prec_0[filtered_prec_0['Month']==i].sum(skipna=True)[2:] * 10 / filtered_temp_0[filtered_temp_0['Month']==i].sum(skipna=True)[2:])\n",
    "    "
   ]
  },
  {
   "cell_type": "code",
   "execution_count": 34,
   "metadata": {},
   "outputs": [],
   "source": [
    "monthly_prec = pd.read_excel('../../input/MinClimateMonthly.xlsx', sheet_name='Prec')"
   ]
  },
  {
   "cell_type": "code",
   "execution_count": 35,
   "metadata": {},
   "outputs": [],
   "source": [
    "monthly_htc_10['Class'] = monthly_prec['Class']\n",
    "monthly_htc_5['Class'] = monthly_prec['Class']\n",
    "monthly_htc_0['Class'] = monthly_prec['Class']"
   ]
  },
  {
   "cell_type": "code",
   "execution_count": 40,
   "metadata": {},
   "outputs": [],
   "source": [
    "c1 = monthly_htc_10[monthly_htc_10['Class']==1]\n",
    "c2 = monthly_htc_10[monthly_htc_10['Class']==2]\n",
    "c3 = monthly_htc_10[monthly_htc_10['Class']==3]\n",
    "c4 = monthly_htc_10[monthly_htc_10['Class']==4]\n",
    "\n",
    "with open('../../output/htc_10_monthly.csv', 'w') as ouf:\n",
    "    ouf.write('Month,Stat,PValue\\n')\n",
    "    for column in monthly_htc_10.columns:\n",
    "        if column in ['Year', 'Class']:\n",
    "            continue\n",
    "        #kruskalwallis = mstats.kruskalwallis(list(c1[column].dropna()), list(c2[column].dropna()), list(c3[column].dropna()), list(c4[column].dropna()))\n",
    "        try:\n",
    "            kruskalwallis = mstats.kruskalwallis(list(c3[column].dropna()), list(c4[column].dropna()))\n",
    "            ouf.write(f\"{column},{kruskalwallis.statistic:.2f},{kruskalwallis.pvalue:.4f}\\n\")\n",
    "            if kruskalwallis.pvalue < 0.05:\n",
    "                #print(f\"{column},{weeks_to_month[column]},{kruskalwallis.statistic:.2f},{kruskalwallis.pvalue:.4f}\")\n",
    "                #plt.boxplot([c1[column].dropna(), c2[column].dropna(), c3[column].dropna(), c4[column].dropna()])\n",
    "                plt.boxplot([c3[column].dropna(), c4[column].dropna()], labels=['3', '4'])\n",
    "                plt.title(\"HTC 10 \"+ column)\n",
    "                plt.show()\n",
    "        except:\n",
    "            ouf.write(f\"{column},,\\n\")"
   ]
  },
  {
   "cell_type": "code",
   "execution_count": 44,
   "metadata": {},
   "outputs": [
    {
     "data": {
      "image/png": "[encoded data removed]",
      "text/plain": [
       "<Figure size 432x288 with 1 Axes>"
      ]
     },
     "metadata": {
      "needs_background": "light"
     },
     "output_type": "display_data"
    },
    {
     "data": {
      "image/png": "[encoded data removed]",
      "text/plain": [
       "<Figure size 432x288 with 1 Axes>"
      ]
     },
     "metadata": {
      "needs_background": "light"
     },
     "output_type": "display_data"
    }
   ],
   "source": [
    "c1 = monthly_htc_5[monthly_htc_5['Class']==1]\n",
    "c2 = monthly_htc_5[monthly_htc_5['Class']==2]\n",
    "c3 = monthly_htc_5[monthly_htc_5['Class']==3]\n",
    "c4 = monthly_htc_5[monthly_htc_5['Class']==4]\n",
    "\n",
    "with open('../../output/htc_5_monthly.csv', 'w') as ouf:\n",
    "    ouf.write('Month,Stat,PValue\\n')\n",
    "    for column in monthly_htc_5.columns:\n",
    "        if column in ['Year', 'Class']:\n",
    "            continue\n",
    "        #kruskalwallis = mstats.kruskalwallis(list(c1[column].dropna()), list(c2[column].dropna()), list(c3[column].dropna()), list(c4[column].dropna()))\n",
    "        try:\n",
    "            kruskalwallis = mstats.kruskalwallis(list(c3[column].dropna()), list(c4[column].dropna()))\n",
    "            ouf.write(f\"{column},{kruskalwallis.statistic:.2f},{kruskalwallis.pvalue:.4f}\\n\")\n",
    "            if kruskalwallis.pvalue < 0.05:\n",
    "                #print(f\"{column},{weeks_to_month[column]},{kruskalwallis.statistic:.2f},{kruskalwallis.pvalue:.4f}\")\n",
    "                #plt.boxplot([c1[column].dropna(), c2[column].dropna(), c3[column].dropna(), c4[column].dropna()])\n",
    "                plt.boxplot([c3[column].dropna(), c4[column].dropna()], labels=['3', '4'])\n",
    "                plt.title(\"HTC 5 \"+ column)\n",
    "                plt.show()\n",
    "        except:\n",
    "            ouf.write(f\"{column},,\\n\")"
   ]
  },
  {
   "cell_type": "code",
   "execution_count": 42,
   "metadata": {},
   "outputs": [],
   "source": [
    "c1 = monthly_htc_0[monthly_htc_0['Class']==1]\n",
    "c2 = monthly_htc_0[monthly_htc_0['Class']==2]\n",
    "c3 = monthly_htc_0[monthly_htc_0['Class']==3]\n",
    "c4 = monthly_htc_0[monthly_htc_0['Class']==4]\n",
    "\n",
    "with open('../../output/htc_0_monthly.csv', 'w') as ouf:\n",
    "    ouf.write('Month,Stat,PValue\\n')\n",
    "    for column in monthly_htc_10.columns:\n",
    "        if column in ['Year', 'Class']:\n",
    "            continue\n",
    "        #kruskalwallis = mstats.kruskalwallis(list(c1[column].dropna()), list(c2[column].dropna()), list(c3[column].dropna()), list(c4[column].dropna()))\n",
    "        try:\n",
    "            kruskalwallis = mstats.kruskalwallis(list(c3[column].dropna()), list(c4[column].dropna()))\n",
    "            ouf.write(f\"{column},{kruskalwallis.statistic:.2f},{kruskalwallis.pvalue:.4f}\\n\")\n",
    "            if kruskalwallis.pvalue < 0.05:\n",
    "                #print(f\"{column},{weeks_to_month[column]},{kruskalwallis.statistic:.2f},{kruskalwallis.pvalue:.4f}\")\n",
    "                #plt.boxplot([c1[column].dropna(), c2[column].dropna(), c3[column].dropna(), c4[column].dropna()])\n",
    "                plt.boxplot([c3[column].dropna(), c4[column].dropna()], labels=['3', '4'])\n",
    "                plt.title(\"HTC 0 \"+ column)\n",
    "                plt.show()\n",
    "        except:\n",
    "            ouf.write(f\"{column},,\\n\")"
   ]
  },
  {
   "cell_type": "code",
   "execution_count": 45,
   "metadata": {},
   "outputs": [],
   "source": [
    "pd.read_csv('../../output/htc_10_monthly.csv').to_excel('../../output/htc_10_monthly.xlsx', index=False)\n",
    "pd.read_csv('../../output/htc_5_monthly.csv').to_excel('../../output/htc_5_monthly.xlsx', index=False)\n",
    "pd.read_csv('../../output/htc_0_monthly.csv').to_excel('../../output/htc_0_monthly.xlsx', index=False)"
   ]
  },
  {
   "cell_type": "code",
   "execution_count": null,
   "metadata": {},
   "outputs": [],
   "source": []
  }
 ],
 "metadata": {
  "interpreter": {
   "hash": "ea00faadcfb8ab3c64085c6facc6f20135a21130ce7141e34f66da8bb95f9659"
  },
  "kernelspec": {
   "display_name": "Python 3.9.4 64-bit",
   "language": "python",
   "name": "python3"
  },
  "language_info": {
   "codemirror_mode": {
    "name": "ipython",
    "version": 3
   },
   "file_extension": ".py",
   "mimetype": "text/x-python",
   "name": "python",
   "nbconvert_exporter": "python",
   "pygments_lexer": "ipython3",
   "version": "3.9.4"
  },
  "orig_nbformat": 4
 },
 "nbformat": 4,
 "nbformat_minor": 2
}
