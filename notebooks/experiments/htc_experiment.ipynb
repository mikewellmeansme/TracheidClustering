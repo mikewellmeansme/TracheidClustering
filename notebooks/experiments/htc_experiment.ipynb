{
 "cells": [
  {
   "cell_type": "code",
   "execution_count": 14,
   "metadata": {},
   "outputs": [],
   "source": [
    "import sys \n",
    "sys.path.append('../..')"
   ]
  },
  {
   "cell_type": "code",
   "execution_count": 2,
   "metadata": {},
   "outputs": [],
   "source": [
    "import pandas as pd\n",
    "import numpy as np\n",
    "import matplotlib.pyplot as plt"
   ]
  },
  {
   "cell_type": "code",
   "execution_count": 13,
   "metadata": {},
   "outputs": [
    {
     "data": {
      "text/plain": [
       "['.git',\n",
       " '.gitignore',\n",
       " '.Rhistory',\n",
       " 'climate.py',\n",
       " 'input',\n",
       " 'nbclust.R',\n",
       " 'notebooks',\n",
       " 'output',\n",
       " 'playground.ipynb',\n",
       " 'README.MD',\n",
       " 'utils',\n",
       " '__pycache__']"
      ]
     },
     "execution_count": 13,
     "metadata": {},
     "output_type": "execute_result"
    }
   ],
   "source": [
    "import os\n",
    "os.listdir('../..')"
   ]
  },
  {
   "cell_type": "code",
   "execution_count": 15,
   "metadata": {},
   "outputs": [],
   "source": [
    "min_temp_M = pd.read_excel('../../input/MinClimate_MODIFIED.xlsx', sheet_name='TEMP_MOD')\n",
    "min_prec_M = pd.read_excel('../../input/MinClimate_MODIFIED.xlsx', sheet_name='PREC_MOD')"
   ]
  },
  {
   "cell_type": "code",
   "execution_count": null,
   "metadata": {},
   "outputs": [],
   "source": [
    "filtered_prec_10 = min_prec_M[min_temp_M>=10]\n",
    "filtered_prec_10['Month'] = min_prec_M['Month']\n",
    "filtered_prec_10['Day'] = min_prec_M['Day']\n",
    "filtered_temp_10 = min_temp_M[min_temp_M>=10]\n",
    "filtered_temp_10['Month'] = min_temp_M['Month']\n",
    "filtered_temp_10['Day'] = min_temp_M['Day']"
   ]
  },
  {
   "cell_type": "code",
   "execution_count": null,
   "metadata": {},
   "outputs": [],
   "source": [
    "filtered_prec_5 = min_prec_M[min_temp_M>=5]\n",
    "filtered_prec_5['Month'] = min_prec_M['Month']\n",
    "filtered_prec_5['Day'] = min_prec_M['Day']\n",
    "filtered_temp_5 = min_temp_M[min_temp_M>=5]\n",
    "filtered_temp_5['Month'] = min_temp_M['Month']\n",
    "filtered_temp_5['Day'] = min_temp_M['Day']"
   ]
  },
  {
   "cell_type": "code",
   "execution_count": null,
   "metadata": {},
   "outputs": [],
   "source": [
    "filtered_prec_0 = min_prec_M[min_temp_M>=0]\n",
    "filtered_prec_0['Month'] = min_prec_M['Month']\n",
    "filtered_prec_0['Day'] = min_prec_M['Day']\n",
    "filtered_temp_0 = min_temp_M[min_temp_M>=0]\n",
    "filtered_temp_0['Month'] = min_temp_M['Month']\n",
    "filtered_temp_0['Day'] = min_temp_M['Day']"
   ]
  },
  {
   "cell_type": "code",
   "execution_count": null,
   "metadata": {},
   "outputs": [],
   "source": [
    "monthly_htc = pd.DataFrame({'Year':list(min_prec_M.columns[2:])})\n",
    "\n",
    "months_names = ['', 'January', 'February', 'March',\n",
    "                'April', 'May', 'June', 'July',\n",
    "                'August', 'September', 'October',\n",
    "                'November', 'December']\n",
    "\n",
    "for i in range(1,13):\n",
    "    monthly_htc[months_names[i]] = list(filtered_prec[filtered_prec['Month']==i].sum(skipna=True)[2:] * 10 / filtered_temp[filtered_temp['Month']==i].sum(skipna=True)[2:])\n",
    "    "
   ]
  }
 ],
 "metadata": {
  "interpreter": {
   "hash": "ea00faadcfb8ab3c64085c6facc6f20135a21130ce7141e34f66da8bb95f9659"
  },
  "kernelspec": {
   "display_name": "Python 3.9.4 64-bit",
   "language": "python",
   "name": "python3"
  },
  "language_info": {
   "codemirror_mode": {
    "name": "ipython",
    "version": 3
   },
   "file_extension": ".py",
   "mimetype": "text/x-python",
   "name": "python",
   "nbconvert_exporter": "python",
   "pygments_lexer": "ipython3",
   "version": "3.9.4"
  },
  "orig_nbformat": 4
 },
 "nbformat": 4,
 "nbformat_minor": 2
}
