{
 "cells": [
  {
   "cell_type": "code",
   "execution_count": 1,
   "metadata": {},
   "outputs": [],
   "source": [
    "import sys \n",
    "sys.path.append('../..')"
   ]
  },
  {
   "cell_type": "code",
   "execution_count": 2,
   "metadata": {},
   "outputs": [],
   "source": [
    "import pandas as pd\n",
    "import matplotlib.pyplot as plt\n",
    "from scipy.stats import mstats"
   ]
  },
  {
   "cell_type": "code",
   "execution_count": 3,
   "metadata": {},
   "outputs": [],
   "source": [
    "PDSI = pd.read_excel('../../input/Minusinsk-PDSI_SPEI-MJJAS.xlsx', sheet_name='PDSI_prev')\n",
    "SPEI = pd.read_excel('../../input/Minusinsk-PDSI_SPEI-MJJAS.xlsx', sheet_name='SPEI_prev')"
   ]
  },
  {
   "cell_type": "code",
   "execution_count": 7,
   "metadata": {},
   "outputs": [
    {
     "data": {
      "image/png": "[encoded data removed]",
      "text/plain": [
       "<Figure size 432x288 with 1 Axes>"
      ]
     },
     "metadata": {
      "needs_background": "light"
     },
     "output_type": "display_data"
    },
    {
     "data": {
      "image/png": "[encoded data removed]",
      "text/plain": [
       "<Figure size 432x288 with 1 Axes>"
      ]
     },
     "metadata": {
      "needs_background": "light"
     },
     "output_type": "display_data"
    }
   ],
   "source": [
    "c1 = PDSI[PDSI['Class']==1]\n",
    "c2 = PDSI[PDSI['Class']==2]\n",
    "c3 = PDSI[PDSI['Class']==3]\n",
    "c4 = PDSI[PDSI['Class']==4]\n",
    "\n",
    "with open('../../output/PDSI_monthly.csv', 'w') as ouf:\n",
    "    ouf.write('Month,Stat,PValue\\n')\n",
    "    for column in ['Aug', 'Sep']:\n",
    "        #kruskalwallis = mstats.kruskalwallis(list(c1[column].dropna()), list(c2[column].dropna()), list(c3[column].dropna()), list(c4[column].dropna()))\n",
    "        try:\n",
    "            kruskalwallis = mstats.kruskalwallis(list(c3[column].dropna()), list(c4[column].dropna()))\n",
    "            ouf.write(f\"{column} prev,{kruskalwallis.statistic:.2f},{kruskalwallis.pvalue:.4f}\\n\")\n",
    "            if kruskalwallis.pvalue < 0.05:\n",
    "                #print(f\"{column},{weeks_to_month[column]},{kruskalwallis.statistic:.2f},{kruskalwallis.pvalue:.4f}\")\n",
    "                #plt.boxplot([c1[column].dropna(), c2[column].dropna(), c3[column].dropna(), c4[column].dropna()])\n",
    "                plt.boxplot([c3[column].dropna(), c4[column].dropna()], labels=['3', '4'])\n",
    "                plt.title(\"PDSI \"+ column + ' prev')\n",
    "                plt.show()\n",
    "        except:\n",
    "            ouf.write(f\"{column},,\\n\")"
   ]
  },
  {
   "cell_type": "code",
   "execution_count": 8,
   "metadata": {},
   "outputs": [],
   "source": [
    "c1 = SPEI[SPEI['Class']==1]\n",
    "c2 = SPEI[SPEI['Class']==2]\n",
    "c3 = SPEI[SPEI['Class']==3]\n",
    "c4 = SPEI[SPEI['Class']==4]\n",
    "\n",
    "with open('../../output/SPEI_monthly.csv', 'w') as ouf:\n",
    "    ouf.write('Month,Stat,PValue\\n')\n",
    "    for column in ['Aug', 'Sep']:\n",
    "        #kruskalwallis = mstats.kruskalwallis(list(c1[column].dropna()), list(c2[column].dropna()), list(c3[column].dropna()), list(c4[column].dropna()))\n",
    "        try:\n",
    "            kruskalwallis = mstats.kruskalwallis(list(c3[column].dropna()), list(c4[column].dropna()))\n",
    "            ouf.write(f\"{column} prev,{kruskalwallis.statistic:.2f},{kruskalwallis.pvalue:.4f}\\n\")\n",
    "            if kruskalwallis.pvalue < 0.05:\n",
    "                #print(f\"{column},{weeks_to_month[column]},{kruskalwallis.statistic:.2f},{kruskalwallis.pvalue:.4f}\")\n",
    "                #plt.boxplot([c1[column].dropna(), c2[column].dropna(), c3[column].dropna(), c4[column].dropna()])\n",
    "                plt.boxplot([c3[column].dropna(), c4[column].dropna()], labels=['3', '4'])\n",
    "                plt.title(\"SPEI \"+ column + ' prev')\n",
    "                plt.show()\n",
    "        except:\n",
    "            ouf.write(f\"{column},,\\n\")"
   ]
  },
  {
   "cell_type": "code",
   "execution_count": 9,
   "metadata": {},
   "outputs": [],
   "source": [
    "pd.read_csv('../../output/PDSI_monthly.csv').to_excel('../../output/PDSI_monthly.xlsx', index=False)\n",
    "pd.read_csv('../../output/SPEI_monthly.csv').to_excel('../../output/SPEI_monthly.xlsx', index=False)"
   ]
  },
  {
   "cell_type": "code",
   "execution_count": null,
   "metadata": {},
   "outputs": [],
   "source": []
  }
 ],
 "metadata": {
  "interpreter": {
   "hash": "ea00faadcfb8ab3c64085c6facc6f20135a21130ce7141e34f66da8bb95f9659"
  },
  "kernelspec": {
   "display_name": "Python 3.9.4 64-bit",
   "language": "python",
   "name": "python3"
  },
  "language_info": {
   "codemirror_mode": {
    "name": "ipython",
    "version": 3
   },
   "file_extension": ".py",
   "mimetype": "text/x-python",
   "name": "python",
   "nbconvert_exporter": "python",
   "pygments_lexer": "ipython3",
   "version": "3.9.4"
  },
  "orig_nbformat": 4
 },
 "nbformat": 4,
 "nbformat_minor": 2
}
