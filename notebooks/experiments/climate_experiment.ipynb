{
 "cells": [
  {
   "cell_type": "code",
   "execution_count": 1,
   "metadata": {},
   "outputs": [],
   "source": [
    "import sys \n",
    "sys.path.append('../../')"
   ]
  },
  {
   "cell_type": "code",
   "execution_count": 2,
   "metadata": {},
   "outputs": [],
   "source": [
    "import pandas as pd\n",
    "import numpy as np\n",
    "import matplotlib.pyplot as plt\n",
    "import matplotlib.dates as mdates\n",
    "from scipy.stats import mstats"
   ]
  },
  {
   "cell_type": "code",
   "execution_count": 4,
   "metadata": {},
   "outputs": [],
   "source": [
    "min_temp = pd.read_excel('../../input/MinClimate.xlsx', sheet_name='Temp')\n",
    "min_prec = pd.read_excel('../../input/MinClimate.xlsx', sheet_name='Prec')\n",
    "a_classified = pd.read_excel('../../input/quotient_deviation_df_A_CLASSIFIED.xlsx')\n",
    "b_classified = pd.read_excel('../../input/quotient_deviation_df_B_CLASSIFIED_FIXED.xlsx')\n",
    "scale_table = pd.read_excel('../../output/to_send/005/scale_table.xlsx')"
   ]
  },
  {
   "cell_type": "code",
   "execution_count": 106,
   "metadata": {},
   "outputs": [
    {
     "name": "stderr",
     "output_type": "stream",
     "text": [
      "C:\\Users\\8FEE~1\\AppData\\Local\\Temp/ipykernel_12256/3367541355.py:1: UserWarning: Boolean Series key will be reindexed to match DataFrame index.\n",
      "  precs = pd.DataFrame(min_prec[min_prec['Month']<11][min_prec['Month']>7].sum()[2:], columns=['PREC'])\n"
     ]
    }
   ],
   "source": [
    "precs = pd.DataFrame(min_prec[min_prec['Month']<11][min_prec['Month']>7].sum()[2:], columns=['PREC'])\n",
    "precs['Year'] = precs.index\n",
    "precs = precs.reset_index(drop=True)"
   ]
  },
  {
   "cell_type": "code",
   "execution_count": 107,
   "metadata": {},
   "outputs": [],
   "source": [
    "precs['Year'] = range(1916, 2019)"
   ]
  },
  {
   "cell_type": "code",
   "execution_count": null,
   "metadata": {},
   "outputs": [],
   "source": [
    "scale_table_apn_precs = scale_table.merge(precs, on='Year', how='left')"
   ]
  },
  {
   "cell_type": "code",
   "execution_count": 109,
   "metadata": {},
   "outputs": [],
   "source": [
    "c1 = scale_table_apn_precs[scale_table_apn_precs['Class 4']==1]\n",
    "c2 = scale_table_apn_precs[scale_table_apn_precs['Class 4']==2]\n",
    "c3 = scale_table_apn_precs[scale_table_apn_precs['Class 4']==3]\n",
    "c4 = scale_table_apn_precs[scale_table_apn_precs['Class 4']==4]"
   ]
  },
  {
   "cell_type": "code",
   "execution_count": 110,
   "metadata": {},
   "outputs": [
    {
     "data": {
      "image/png": "[encoded data removed]",
      "text/plain": [
       "<Figure size 432x288 with 1 Axes>"
      ]
     },
     "metadata": {
      "needs_background": "light"
     },
     "output_type": "display_data"
    }
   ],
   "source": [
    "plt.boxplot([c1['PREC'].dropna(), c2['PREC'].dropna(), c3['PREC'].dropna(), c4['PREC'].dropna()])\n",
    "plt.title('PREC')\n",
    "plt.show()"
   ]
  },
  {
   "cell_type": "code",
   "execution_count": 111,
   "metadata": {},
   "outputs": [
    {
     "data": {
      "text/plain": [
       "KruskalResult(statistic=4.139642416820706, pvalue=0.2467747259567227)"
      ]
     },
     "execution_count": 111,
     "metadata": {},
     "output_type": "execute_result"
    }
   ],
   "source": [
    "mstats.kruskalwallis(list(c1['PREC'].dropna()), list(c2['PREC'].dropna()), list(c3['PREC'].dropna()), list(c4['PREC'].dropna()))"
   ]
  },
  {
   "cell_type": "markdown",
   "metadata": {},
   "source": [
    "# Kraskall-Walts for months"
   ]
  },
  {
   "cell_type": "markdown",
   "metadata": {},
   "source": [
    "Сначала получим данные по месяцам"
   ]
  },
  {
   "cell_type": "code",
   "execution_count": 37,
   "metadata": {},
   "outputs": [],
   "source": [
    "min_temp_M = pd.read_excel('../../input/MinClimate_MODIFIED.xlsx', sheet_name='TEMP_MOD')\n",
    "min_prec_M = pd.read_excel('../../input/MinClimate_MODIFIED.xlsx', sheet_name='PREC_MOD')"
   ]
  },
  {
   "cell_type": "code",
   "execution_count": 65,
   "metadata": {},
   "outputs": [],
   "source": [
    "monthly_temp = pd.DataFrame(min_temp_M[min_temp_M['Month'] == -5].mean(skipna=True)).T\n",
    "for month in set(min_temp_M['Month']):\n",
    "    if month == -5:\n",
    "        continue\n",
    "    monthly_temp = monthly_temp.append(pd.DataFrame(min_temp_M[min_temp_M['Month'] == month].mean(skipna=True)).T)\n",
    "\n",
    "monthly_temp = monthly_temp.reset_index(drop=True).drop(columns=['Day', 'Week']).T"
   ]
  },
  {
   "cell_type": "code",
   "execution_count": 67,
   "metadata": {},
   "outputs": [],
   "source": [
    "monthly_prec = pd.DataFrame(min_prec_M[min_prec_M['Month'] == -5].sum(skipna=True)).T\n",
    "for month in set(min_prec_M['Month']):\n",
    "    if month == -5:\n",
    "        continue\n",
    "    monthly_prec = monthly_prec.append(pd.DataFrame(min_prec_M[min_prec_M['Month'] == month].sum(skipna=True)).T)\n",
    "\n",
    "monthly_prec = monthly_prec.reset_index(drop=True).drop(columns=['Day', 'Week']).T"
   ]
  },
  {
   "cell_type": "code",
   "execution_count": 68,
   "metadata": {},
   "outputs": [],
   "source": [
    "monthly_temp.to_excel('../../output/monthly_temp.xlsx')\n",
    "monthly_prec.to_excel('../../output/monthly_prec.xlsx')"
   ]
  },
  {
   "cell_type": "markdown",
   "metadata": {},
   "source": [
    "Потом вручную доработаем и запихаем в файл input/MinClimateMonthly.xlsx"
   ]
  },
  {
   "cell_type": "code",
   "execution_count": 73,
   "metadata": {},
   "outputs": [],
   "source": [
    "monthly_temp = pd.read_excel('../../input/MinClimateMonthly.xlsx', sheet_name='Temp')\n",
    "monthly_prec = pd.read_excel('../../input/MinClimateMonthly.xlsx', sheet_name='Prec')"
   ]
  },
  {
   "cell_type": "code",
   "execution_count": 76,
   "metadata": {},
   "outputs": [
    {
     "data": {
      "image/png": "[encoded data removed]",
      "text/plain": [
       "<Figure size 432x288 with 1 Axes>"
      ]
     },
     "metadata": {
      "needs_background": "light"
     },
     "output_type": "display_data"
    },
    {
     "data": {
      "image/png": "[encoded data removed]",
      "text/plain": [
       "<Figure size 432x288 with 1 Axes>"
      ]
     },
     "metadata": {
      "needs_background": "light"
     },
     "output_type": "display_data"
    },
    {
     "data": {
      "image/png": "[encoded data removed]",
      "text/plain": [
       "<Figure size 432x288 with 1 Axes>"
      ]
     },
     "metadata": {
      "needs_background": "light"
     },
     "output_type": "display_data"
    }
   ],
   "source": [
    "c1 = monthly_temp[monthly_temp['Class']==1]\n",
    "c2 = monthly_temp[monthly_temp['Class']==2]\n",
    "c3 = monthly_temp[monthly_temp['Class']==3]\n",
    "c4 = monthly_temp[monthly_temp['Class']==4]\n",
    "\n",
    "with open('../../output/temp_monthly.csv', 'w') as ouf:\n",
    "    ouf.write('Month,Stat,PValue\\n')\n",
    "    for column in monthly_temp.columns:\n",
    "        if column in ['Year', 'Class']:\n",
    "            continue\n",
    "        #kruskalwallis = mstats.kruskalwallis(list(c1[column].dropna()), list(c2[column].dropna()), list(c3[column].dropna()), list(c4[column].dropna()))\n",
    "        kruskalwallis = mstats.kruskalwallis(list(c3[column].dropna()), list(c4[column].dropna()))\n",
    "        ouf.write(f\"{column},{kruskalwallis.statistic:.2f},{kruskalwallis.pvalue:.4f}\\n\")\n",
    "        if kruskalwallis.pvalue < 0.05:\n",
    "            #print(f\"{column},{weeks_to_month[column]},{kruskalwallis.statistic:.2f},{kruskalwallis.pvalue:.4f}\")\n",
    "            #plt.boxplot([c1[column].dropna(), c2[column].dropna(), c3[column].dropna(), c4[column].dropna()])\n",
    "            plt.boxplot([c3[column].dropna(), c4[column].dropna()], labels=['3', '4'])\n",
    "            plt.title(\"Temperature \"+ column)\n",
    "            plt.show()"
   ]
  },
  {
   "cell_type": "code",
   "execution_count": 77,
   "metadata": {},
   "outputs": [
    {
     "data": {
      "image/png": "[encoded data removed]",
      "text/plain": [
       "<Figure size 432x288 with 1 Axes>"
      ]
     },
     "metadata": {
      "needs_background": "light"
     },
     "output_type": "display_data"
    }
   ],
   "source": [
    "c1 = monthly_prec[monthly_prec['Class']==1]\n",
    "c2 = monthly_prec[monthly_prec['Class']==2]\n",
    "c3 = monthly_prec[monthly_prec['Class']==3]\n",
    "c4 = monthly_prec[monthly_prec['Class']==4]\n",
    "\n",
    "with open('../../output/prec_monthly.csv', 'w') as ouf:\n",
    "    ouf.write('Month,Stat,PValue\\n')\n",
    "    for column in monthly_prec.columns:\n",
    "        if column in ['Year', 'Class']:\n",
    "            continue\n",
    "        #kruskalwallis = mstats.kruskalwallis(list(c1[column].dropna()), list(c2[column].dropna()), list(c3[column].dropna()), list(c4[column].dropna()))\n",
    "        kruskalwallis = mstats.kruskalwallis(list(c3[column].dropna()), list(c4[column].dropna()))\n",
    "        ouf.write(f\"{column},{kruskalwallis.statistic:.2f},{kruskalwallis.pvalue:.4f}\\n\")\n",
    "        if kruskalwallis.pvalue < 0.05:\n",
    "            #print(f\"{column},{weeks_to_month[column]},{kruskalwallis.statistic:.2f},{kruskalwallis.pvalue:.4f}\")\n",
    "            #plt.boxplot([c1[column].dropna(), c2[column].dropna(), c3[column].dropna(), c4[column].dropna()])\n",
    "            plt.boxplot([c3[column].dropna(), c4[column].dropna()], labels=['3', '4'])\n",
    "            plt.title(\"Precipitation \"+ column)\n",
    "            plt.show()"
   ]
  },
  {
   "cell_type": "code",
   "execution_count": 78,
   "metadata": {},
   "outputs": [],
   "source": [
    "pd.read_csv('../../output/temp_monthly.csv').to_excel('../../output/temp_monthly.xlsx', index=False)\n",
    "pd.read_csv('../../output/prec_monthly.csv').to_excel('../../output/prec_monthly.xlsx', index=False)"
   ]
  },
  {
   "cell_type": "markdown",
   "metadata": {},
   "source": [
    "# Kraskall-Walts for weeks"
   ]
  },
  {
   "cell_type": "code",
   "execution_count": 5,
   "metadata": {},
   "outputs": [],
   "source": [
    "min_temp_M = pd.read_excel('../../input/MinClimate_MODIFIED.xlsx', sheet_name='TEMP_MOD')\n",
    "min_prec_M = pd.read_excel('../../input/MinClimate_MODIFIED.xlsx', sheet_name='PREC_MOD')"
   ]
  },
  {
   "cell_type": "code",
   "execution_count": 157,
   "metadata": {},
   "outputs": [],
   "source": [
    "mean_temp = None\n",
    "sum_prec = None\n",
    "\n",
    "for week in set(min_temp_M['Week']):\n",
    "\n",
    "    a = min_temp_M[min_temp_M['Week'] == week].mean(skipna=True)\n",
    "    a['Week'] = week\n",
    "    if str(mean_temp) != 'None':\n",
    "        mean_temp = mean_temp.append(pd.DataFrame(a).T)\n",
    "    else:\n",
    "        mean_temp = pd.DataFrame(a).T\n",
    "    \n",
    "    a = min_prec_M[min_prec_M['Week'] == week].sum(skipna=True)\n",
    "    a['Week'] = week\n",
    "    if str(sum_prec) != 'None':\n",
    "        sum_prec = sum_prec.append(pd.DataFrame(a).T)\n",
    "    else:\n",
    "        sum_prec = pd.DataFrame(a).T"
   ]
  },
  {
   "cell_type": "code",
   "execution_count": 161,
   "metadata": {},
   "outputs": [],
   "source": [
    "mean_temp = mean_temp.reset_index(drop=True).drop(columns=['Month', 'Day'])\n",
    "sum_prec = sum_prec.reset_index(drop=True).drop(columns=['Month', 'Day'])"
   ]
  },
  {
   "cell_type": "code",
   "execution_count": 166,
   "metadata": {},
   "outputs": [],
   "source": [
    "mean_temp.T.to_excel('../../output/mean_temp.xlsx', index=True)\n",
    "sum_prec.T.to_excel('../../output/sum_prec.xlsx', index=True)"
   ]
  },
  {
   "cell_type": "markdown",
   "metadata": {},
   "source": [
    "Отсюда всё руками переделал в файл input/MinClimateWeekly.xlsx"
   ]
  },
  {
   "cell_type": "code",
   "execution_count": 3,
   "metadata": {},
   "outputs": [],
   "source": [
    "temp_weekly = pd.read_excel('../../input/MinClimateWeekly.xlsx', sheet_name='MEAN_TEMP')\n",
    "prec_weekly = pd.read_excel('../../input/MinClimateWeekly.xlsx', sheet_name='SUM_PREC')"
   ]
  },
  {
   "cell_type": "code",
   "execution_count": 27,
   "metadata": {},
   "outputs": [],
   "source": [
    "months = {\n",
    "    1: 'Jan',\n",
    "    2: 'Feb',\n",
    "    3: 'Mar',\n",
    "    4: 'Apr',\n",
    "    5: 'May',\n",
    "    6: 'Jun',\n",
    "    7: 'Jul',\n",
    "    8: 'Aug',\n",
    "    9: 'Sep',\n",
    "    10: 'Oct',\n",
    "    11: 'Nov',\n",
    "    12: 'Dec',\n",
    "    -1: 'Dec prev',\n",
    "    -2: 'Nov prev',\n",
    "    -3: 'Oct prev',\n",
    "    -4: 'Sep prev',\n",
    "    -5: 'Aug prev',\n",
    "}\n",
    "\n",
    "weeks_to_month = dict()\n",
    "for week in set(min_temp_M['Week']):\n",
    "    loc_df = min_temp_M[min_temp_M['Week'] == week]\n",
    "    \n",
    "    #weeks_to_month[week] = get_month(*get_int_diapason(loc_df['Month'].mean()))\n",
    "    m = list(loc_df['Month'])\n",
    "    d = list(loc_df['Day'])\n",
    "    weeks_to_month[week] = f\"{d[0]} {months[m[0]]},{d[-1]} {months[m[-1]]}\""
   ]
  },
  {
   "cell_type": "code",
   "execution_count": 35,
   "metadata": {},
   "outputs": [
    {
     "data": {
      "image/png": "[encoded data removed]",
      "text/plain": [
       "<Figure size 432x288 with 1 Axes>"
      ]
     },
     "metadata": {
      "needs_background": "light"
     },
     "output_type": "display_data"
    },
    {
     "data": {
      "image/png": "[encoded data removed]",
      "text/plain": [
       "<Figure size 432x288 with 1 Axes>"
      ]
     },
     "metadata": {
      "needs_background": "light"
     },
     "output_type": "display_data"
    },
    {
     "data": {
      "image/png": "[encoded data removed]",
      "text/plain": [
       "<Figure size 432x288 with 1 Axes>"
      ]
     },
     "metadata": {
      "needs_background": "light"
     },
     "output_type": "display_data"
    },
    {
     "data": {
      "image/png": "[encoded data removed]",
      "text/plain": [
       "<Figure size 432x288 with 1 Axes>"
      ]
     },
     "metadata": {
      "needs_background": "light"
     },
     "output_type": "display_data"
    },
    {
     "data": {
      "image/png": "[encoded data removed]",
      "text/plain": [
       "<Figure size 432x288 with 1 Axes>"
      ]
     },
     "metadata": {
      "needs_background": "light"
     },
     "output_type": "display_data"
    }
   ],
   "source": [
    "c1 = temp_weekly[temp_weekly['Class']==1]\n",
    "c2 = temp_weekly[temp_weekly['Class']==2]\n",
    "c3 = temp_weekly[temp_weekly['Class']==3]\n",
    "c4 = temp_weekly[temp_weekly['Class']==4]\n",
    "\n",
    "with open('../../output/temp_weekly.csv', 'w') as ouf:\n",
    "    ouf.write('Week,StartDay,EndDay,Stat,PValue\\n')\n",
    "    for column in temp_weekly.columns:\n",
    "        if column in ['Year', 'Class']:\n",
    "            continue\n",
    "        #kruskalwallis = mstats.kruskalwallis(list(c1[column].dropna()), list(c2[column].dropna()), list(c3[column].dropna()), list(c4[column].dropna()))\n",
    "        kruskalwallis = mstats.kruskalwallis(list(c3[column].dropna()), list(c4[column].dropna()))\n",
    "        ouf.write(f\"{column},{weeks_to_month[column]},{kruskalwallis.statistic:.2f},{kruskalwallis.pvalue:.4f}\\n\")\n",
    "        if kruskalwallis.pvalue < 0.05:\n",
    "            #print(f\"{column},{weeks_to_month[column]},{kruskalwallis.statistic:.2f},{kruskalwallis.pvalue:.4f}\")\n",
    "            #plt.boxplot([c1[column].dropna(), c2[column].dropna(), c3[column].dropna(), c4[column].dropna()])\n",
    "            plt.boxplot([c3[column].dropna(), c4[column].dropna()], labels=['3', '4'])\n",
    "            plt.title(\"Temperature \"+' - '.join(weeks_to_month[column].split(',')))\n",
    "            plt.show()"
   ]
  },
  {
   "cell_type": "code",
   "execution_count": 36,
   "metadata": {},
   "outputs": [
    {
     "data": {
      "image/png": "[encoded data removed]",
      "text/plain": [
       "<Figure size 432x288 with 1 Axes>"
      ]
     },
     "metadata": {
      "needs_background": "light"
     },
     "output_type": "display_data"
    },
    {
     "data": {
      "image/png": "[encoded data removed]",
      "text/plain": [
       "<Figure size 432x288 with 1 Axes>"
      ]
     },
     "metadata": {
      "needs_background": "light"
     },
     "output_type": "display_data"
    },
    {
     "data": {
      "image/png": "[encoded data removed]",
      "text/plain": [
       "<Figure size 432x288 with 1 Axes>"
      ]
     },
     "metadata": {
      "needs_background": "light"
     },
     "output_type": "display_data"
    },
    {
     "data": {
      "image/png": "[encoded data removed]",
      "text/plain": [
       "<Figure size 432x288 with 1 Axes>"
      ]
     },
     "metadata": {
      "needs_background": "light"
     },
     "output_type": "display_data"
    },
    {
     "data": {
      "image/png": "[encoded data removed]",
      "text/plain": [
       "<Figure size 432x288 with 1 Axes>"
      ]
     },
     "metadata": {
      "needs_background": "light"
     },
     "output_type": "display_data"
    }
   ],
   "source": [
    "c1 = prec_weekly[prec_weekly['Class']==1]\n",
    "c2 = prec_weekly[prec_weekly['Class']==2]\n",
    "c3 = prec_weekly[prec_weekly['Class']==3]\n",
    "c4 = prec_weekly[prec_weekly['Class']==4]\n",
    "\n",
    "with open('../../output/prec_weekly.csv', 'w') as ouf:\n",
    "    ouf.write('Week,StartDay,EndDay,Stat,PValue\\n')\n",
    "    for column in prec_weekly.columns:\n",
    "        if column in ['Year', 'Class']:\n",
    "            continue\n",
    "        #kruskalwallis = mstats.kruskalwallis(list(c1[column].dropna()), list(c2[column].dropna()), list(c3[column].dropna()), list(c4[column].dropna()))\n",
    "        kruskalwallis = mstats.kruskalwallis(list(c3[column].dropna()), list(c4[column].dropna()))\n",
    "        ouf.write(f\"{column},{weeks_to_month[column]},{kruskalwallis.statistic:.2f},{kruskalwallis.pvalue:.4f}\\n\")\n",
    "        if kruskalwallis.pvalue < 0.05:\n",
    "            #print(f\"{column},{weeks_to_month[column]},{kruskalwallis.statistic:.2f},{kruskalwallis.pvalue:.4f}\")\n",
    "            #plt.boxplot([c1[column].dropna(), c2[column].dropna(), c3[column].dropna(), c4[column].dropna()])\n",
    "            plt.boxplot([c3[column].dropna(), c4[column].dropna()], labels=['3', '4'])\n",
    "            plt.title(\"Precipitation \" +' - '.join(weeks_to_month[column].split(',')))\n",
    "            plt.show()"
   ]
  },
  {
   "cell_type": "code",
   "execution_count": 34,
   "metadata": {},
   "outputs": [],
   "source": [
    "pd.read_csv('../../output/temp_weekly.csv').to_excel('../../output/temp_weekly.xlsx', index=False)\n",
    "pd.read_csv('../../output/prec_weekly.csv').to_excel('../../output/prec_weekly.xlsx', index=False)"
   ]
  },
  {
   "cell_type": "code",
   "execution_count": null,
   "metadata": {},
   "outputs": [],
   "source": []
  }
 ],
 "metadata": {
  "interpreter": {
   "hash": "ea00faadcfb8ab3c64085c6facc6f20135a21130ce7141e34f66da8bb95f9659"
  },
  "kernelspec": {
   "display_name": "Python 3.9.4 64-bit",
   "language": "python",
   "name": "python3"
  },
  "language_info": {
   "codemirror_mode": {
    "name": "ipython",
    "version": 3
   },
   "file_extension": ".py",
   "mimetype": "text/x-python",
   "name": "python",
   "nbconvert_exporter": "python",
   "pygments_lexer": "ipython3",
   "version": "3.9.4"
  },
  "orig_nbformat": 4
 },
 "nbformat": 4,
 "nbformat_minor": 2
}
