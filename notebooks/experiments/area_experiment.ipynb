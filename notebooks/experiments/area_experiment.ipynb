{
 "cells": [
  {
   "cell_type": "code",
   "execution_count": 1,
   "metadata": {},
   "outputs": [],
   "source": [
    "import sys \n",
    "sys.path.append('../..')"
   ]
  },
  {
   "cell_type": "code",
   "execution_count": 2,
   "metadata": {},
   "outputs": [],
   "source": [
    "import pandas as pd\n",
    "import numpy as np\n",
    "import matplotlib.pyplot as plt\n",
    "\n",
    "from utils.functions import get_moving_avg\n",
    "from scipy.stats import mstats"
   ]
  },
  {
   "cell_type": "markdown",
   "metadata": {},
   "source": [
    "# Yearly"
   ]
  },
  {
   "cell_type": "code",
   "execution_count": 3,
   "metadata": {},
   "outputs": [],
   "source": [
    "scale_table = pd.read_excel('../../output/to_send/005/scale_table.xlsx')"
   ]
  },
  {
   "cell_type": "code",
   "execution_count": 5,
   "metadata": {},
   "outputs": [],
   "source": [
    "scale_table['Year'] = range(1814, 2020)"
   ]
  },
  {
   "cell_type": "code",
   "execution_count": 13,
   "metadata": {},
   "outputs": [
    {
     "name": "stdout",
     "output_type": "stream",
     "text": [
      "AREA prev,0.55,0.4602\n",
      "\n"
     ]
    },
    {
     "data": {
      "image/png": "[encoded data removed]",
      "text/plain": [
       "<Figure size 432x288 with 1 Axes>"
      ]
     },
     "metadata": {
      "needs_background": "light"
     },
     "output_type": "display_data"
    }
   ],
   "source": [
    "c1 = scale_table[scale_table['Class 4']==1]\n",
    "c2 = scale_table[scale_table['Class 4']==2]\n",
    "c3 = scale_table[scale_table['Class 4']==3]\n",
    "c4 = scale_table[scale_table['Class 4']==4]\n",
    "\n",
    "\n",
    "kruskalwallis = mstats.kruskalwallis(list(c3['Area'].dropna()), list(c4['Area'].dropna()))\n",
    "print(f\"AREA prev,{kruskalwallis.statistic:.2f},{kruskalwallis.pvalue:.4f}\\n\")\n",
    "#print(f\"{column},{weeks_to_month[column]},{kruskalwallis.statistic:.2f},{kruskalwallis.pvalue:.4f}\")\n",
    "#plt.boxplot([c1[column].dropna(), c2[column].dropna(), c3[column].dropna(), c4[column].dropna()])\n",
    "plt.boxplot([c3['Area'].dropna(), c4['Area'].dropna()], labels=['3', '4'])\n",
    "plt.title(\"Area prev\")\n",
    "plt.show()"
   ]
  },
  {
   "cell_type": "markdown",
   "metadata": {},
   "source": [
    "# Data preparation"
   ]
  },
  {
   "cell_type": "code",
   "execution_count": 3,
   "metadata": {},
   "outputs": [],
   "source": [
    "min_temp = pd.read_excel('../../input/MinClimate_MODIFIED.xlsx', sheet_name='TEMP_MOD')\n",
    "min_prec = pd.read_excel('../../input/MinClimate_MODIFIED.xlsx', sheet_name='PREC_MOD')\n",
    "a_classified = pd.read_excel('../../input/quotient_deviation_df_A_CLASSIFIED.xlsx')\n",
    "b_classified = pd.read_excel('../../input/quotient_deviation_df_B_CLASSIFIED_FIXED.xlsx')"
   ]
  },
  {
   "cell_type": "code",
   "execution_count": 4,
   "metadata": {},
   "outputs": [],
   "source": [
    "min_temp = get_moving_avg(min_temp)"
   ]
  },
  {
   "cell_type": "code",
   "execution_count": 6,
   "metadata": {},
   "outputs": [],
   "source": [
    "min_temp = min_temp[min_temp['Month']>4].reset_index(drop=True)\n",
    "min_temp = min_temp[min_temp['Month']<10].reset_index(drop=True)\n",
    "min_prec = min_prec[min_prec['Month']>4].reset_index(drop=True)\n",
    "min_prec = min_prec[min_prec['Month']<10].reset_index(drop=True)"
   ]
  },
  {
   "cell_type": "code",
   "execution_count": 7,
   "metadata": {},
   "outputs": [],
   "source": [
    "min_cumsum_prec = min_prec.cumsum()\n",
    "min_cumsum_prec = get_moving_avg(min_cumsum_prec)\n",
    "min_cumsum_prec['Month'] = min_prec['Month']\n",
    "min_cumsum_prec['Week'] = min_prec['Week']\n",
    "min_cumsum_prec['Day'] = min_prec['Day']"
   ]
  },
  {
   "cell_type": "code",
   "execution_count": 8,
   "metadata": {},
   "outputs": [],
   "source": [
    "prec_max = max(min_cumsum_prec.max(skipna=True)[3:])\n",
    "prec_min = min(min_cumsum_prec.min(skipna=True)[3:])"
   ]
  },
  {
   "cell_type": "code",
   "execution_count": 9,
   "metadata": {},
   "outputs": [],
   "source": [
    "scaled_prec = (min_cumsum_prec - prec_min) / (prec_max - prec_min)\n",
    "scaled_prec['Month'] = min_prec['Month']\n",
    "scaled_prec['Week'] = min_prec['Week']\n",
    "scaled_prec['Day'] = min_prec['Day']"
   ]
  },
  {
   "cell_type": "code",
   "execution_count": 10,
   "metadata": {},
   "outputs": [],
   "source": [
    "temp_max = max(min_temp.max(skipna=True)[3:])\n",
    "temp_min = min(min_temp.min(skipna=True)[3:])"
   ]
  },
  {
   "cell_type": "code",
   "execution_count": 12,
   "metadata": {},
   "outputs": [],
   "source": [
    "scaled_temp = (min_temp - temp_min) / (temp_max - temp_min)\n",
    "scaled_temp['Month'] = min_temp['Month']\n",
    "scaled_temp['Week'] = min_temp['Week']\n",
    "scaled_temp['Day'] = min_temp['Day']"
   ]
  },
  {
   "cell_type": "code",
   "execution_count": 23,
   "metadata": {},
   "outputs": [
    {
     "name": "stderr",
     "output_type": "stream",
     "text": [
      "C:\\Users\\8FEE~1\\AppData\\Local\\Temp/ipykernel_13892/1066384259.py:6: SettingWithCopyWarning: \n",
      "A value is trying to be set on a copy of a slice from a DataFrame.\n",
      "Try using .loc[row_indexer,col_indexer] = value instead\n",
      "\n",
      "See the caveats in the documentation: https://pandas.pydata.org/pandas-docs/stable/user_guide/indexing.html#returning-a-view-versus-a-copy\n",
      "  scaled_moved_temp[column+1] = scaled_temp[column]\n",
      "C:\\Users\\8FEE~1\\AppData\\Local\\Temp/ipykernel_13892/1066384259.py:7: SettingWithCopyWarning: \n",
      "A value is trying to be set on a copy of a slice from a DataFrame.\n",
      "Try using .loc[row_indexer,col_indexer] = value instead\n",
      "\n",
      "See the caveats in the documentation: https://pandas.pydata.org/pandas-docs/stable/user_guide/indexing.html#returning-a-view-versus-a-copy\n",
      "  scaled_moved_prec[column+1] = scaled_prec[column]\n"
     ]
    }
   ],
   "source": [
    "scaled_moved_temp = scaled_temp[['Month', 'Week', 'Day']]\n",
    "scaled_moved_prec = scaled_prec[['Month', 'Week', 'Day']]\n",
    "\n",
    "for column in scaled_prec.columns:\n",
    "    if not column in ['Month', 'Week', 'Day']:\n",
    "        scaled_moved_temp[column+1] = scaled_temp[column]\n",
    "        scaled_moved_prec[column+1] = scaled_prec[column]"
   ]
  },
  {
   "cell_type": "code",
   "execution_count": 30,
   "metadata": {},
   "outputs": [],
   "source": [
    "area_df = abs(scaled_moved_temp - scaled_moved_prec)\n",
    "area_df['Month'] = scaled_moved_temp['Month']\n",
    "area_df['Week'] = scaled_moved_temp['Week']\n",
    "area_df['Day'] = scaled_moved_temp['Day']"
   ]
  },
  {
   "cell_type": "markdown",
   "metadata": {},
   "source": [
    "# Monthly"
   ]
  },
  {
   "cell_type": "code",
   "execution_count": 50,
   "metadata": {},
   "outputs": [],
   "source": [
    "monthly_area = pd.DataFrame({\n",
    "    'Year': area_df.columns[3:]\n",
    "})\n",
    "\n",
    "for month in set(area_df['Month']):\n",
    "    area = area_df[area_df['Month']==month].sum(skipna=True)[3:]\n",
    "    monthly_area[month] = list(area)\n",
    "\n",
    "monthly_area['Class'] = list(a_classified[a_classified['Year']>1915]['Class 4']+1)+[np.nan]"
   ]
  },
  {
   "cell_type": "code",
   "execution_count": 65,
   "metadata": {},
   "outputs": [
    {
     "name": "stdout",
     "output_type": "stream",
     "text": [
      "AREA Aug prev,0.03,0.8535\n",
      "\n"
     ]
    },
    {
     "data": {
      "image/png": "[encoded data removed]",
      "text/plain": [
       "<Figure size 432x288 with 1 Axes>"
      ]
     },
     "metadata": {
      "needs_background": "light"
     },
     "output_type": "display_data"
    },
    {
     "name": "stdout",
     "output_type": "stream",
     "text": [
      "AREA Sep prev,1.23,0.2679\n",
      "\n"
     ]
    },
    {
     "data": {
      "image/png": "[encoded data removed]",
      "text/plain": [
       "<Figure size 432x288 with 1 Axes>"
      ]
     },
     "metadata": {
      "needs_background": "light"
     },
     "output_type": "display_data"
    }
   ],
   "source": [
    "\n",
    "c3 = monthly_area[monthly_area['Class']==3]\n",
    "c4 = monthly_area[monthly_area['Class']==4]\n",
    "\n",
    "\n",
    "kruskalwallis = mstats.kruskalwallis(list(c3[8].dropna()), list(c4[8].dropna()))\n",
    "print(f\"AREA Aug prev,{kruskalwallis.statistic:.2f},{kruskalwallis.pvalue:.4f}\\n\")\n",
    "plt.boxplot([c3[8].dropna(), c4[8].dropna()], labels=['3', '4'])\n",
    "plt.title(\"Area Aug prev\")\n",
    "plt.show()\n",
    "kruskalwallis = mstats.kruskalwallis(list(c3[9].dropna()), list(c4[9].dropna()))\n",
    "print(f\"AREA Sep prev,{kruskalwallis.statistic:.2f},{kruskalwallis.pvalue:.4f}\\n\")\n",
    "plt.boxplot([c3[9].dropna(), c4[9].dropna()], labels=['3', '4'])\n",
    "plt.title(\"Area Sep prev\")\n",
    "plt.show()"
   ]
  },
  {
   "cell_type": "markdown",
   "metadata": {},
   "source": [
    "# Weekly"
   ]
  },
  {
   "cell_type": "code",
   "execution_count": 52,
   "metadata": {},
   "outputs": [],
   "source": [
    "weekly_area = pd.DataFrame({\n",
    "    'Year': area_df.columns[3:]\n",
    "})\n",
    "\n",
    "for week in set(area_df['Week']):\n",
    "    area = area_df[area_df['Week']==week].sum(skipna=True)[3:]\n",
    "    weekly_area[week] = list(area)\n",
    "\n",
    "weekly_area['Class'] = list(a_classified[a_classified['Year']>1915]['Class 4']+1)+[np.nan]"
   ]
  },
  {
   "cell_type": "code",
   "execution_count": 69,
   "metadata": {},
   "outputs": [
    {
     "name": "stdout",
     "output_type": "stream",
     "text": [
      "AREA 18 prev,2.37,0.1239\n",
      "AREA 19 prev,0.85,0.3559\n",
      "AREA 20 prev,0.03,0.8535\n",
      "AREA 21 prev,0.02,0.9020\n",
      "AREA 22 prev,0.00,1.0000\n",
      "AREA 23 prev,1.37,0.2423\n",
      "AREA 24 prev,0.46,0.4984\n",
      "AREA 25 prev,1.09,0.2954\n",
      "AREA 26 prev,0.31,0.5796\n",
      "AREA 27 prev,0.06,0.8055\n",
      "AREA 28 prev,0.46,0.4984\n",
      "AREA 29 prev,0.24,0.6225\n",
      "AREA 30 prev,0.64,0.4237\n",
      "AREA 31 prev,0.00,0.9509\n",
      "AREA 32 prev,0.06,0.8055\n",
      "AREA 33 prev,0.64,0.4237\n",
      "AREA 34 prev,0.06,0.8055\n",
      "AREA 35 prev,0.19,0.6666\n",
      "AREA 36 prev,0.09,0.7583\n",
      "AREA 37 prev,0.24,0.6225\n",
      "AREA 38 prev,2.18,0.1396\n",
      "AREA 39 prev,1.23,0.2679\n",
      "AREA 40 prev,1.09,0.2954\n"
     ]
    }
   ],
   "source": [
    "c3 = weekly_area[weekly_area['Class']==3]\n",
    "c4 = weekly_area[weekly_area['Class']==4]\n",
    "\n",
    "\n",
    "for week in weekly_area.columns:\n",
    "    if week in ['Year', 'Class']:\n",
    "        continue\n",
    "    kruskalwallis = mstats.kruskalwallis(list(c3[week].dropna()), list(c4[week].dropna()))\n",
    "    print(f\"AREA {week} prev,{kruskalwallis.statistic:.2f},{kruskalwallis.pvalue:.4f}\")\n",
    "    if kruskalwallis.pvalue < 0.05:\n",
    "        plt.boxplot([c3[week].dropna(), c4[week].dropna()], labels=['3', '4'])\n",
    "        plt.title(\"Area Aug prev\")\n",
    "        plt.show()"
   ]
  },
  {
   "cell_type": "code",
   "execution_count": null,
   "metadata": {},
   "outputs": [],
   "source": []
  }
 ],
 "metadata": {
  "interpreter": {
   "hash": "ea00faadcfb8ab3c64085c6facc6f20135a21130ce7141e34f66da8bb95f9659"
  },
  "kernelspec": {
   "display_name": "Python 3.9.4 64-bit",
   "language": "python",
   "name": "python3"
  },
  "language_info": {
   "codemirror_mode": {
    "name": "ipython",
    "version": 3
   },
   "file_extension": ".py",
   "mimetype": "text/x-python",
   "name": "python",
   "nbconvert_exporter": "python",
   "pygments_lexer": "ipython3",
   "version": "3.9.4"
  },
  "orig_nbformat": 4
 },
 "nbformat": 4,
 "nbformat_minor": 2
}
