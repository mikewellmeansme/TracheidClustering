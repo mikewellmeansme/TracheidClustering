{
 "cells": [
  {
   "cell_type": "code",
   "execution_count": 1,
   "metadata": {},
   "outputs": [],
   "source": [
    "import sys \n",
    "sys.path.append('../..')"
   ]
  },
  {
   "cell_type": "code",
   "execution_count": 2,
   "metadata": {},
   "outputs": [],
   "source": [
    "import pandas as pd\n",
    "import numpy as np\n",
    "import matplotlib.pyplot as plt\n",
    "\n",
    "from utils.functions import get_moving_avg\n",
    "from scipy.stats import mstats"
   ]
  },
  {
   "cell_type": "markdown",
   "metadata": {},
   "source": [
    "# Yearly"
   ]
  },
  {
   "cell_type": "code",
   "execution_count": 3,
   "metadata": {},
   "outputs": [],
   "source": [
    "scale_table = pd.read_excel('../../output/to_send/005/scale_table.xlsx')"
   ]
  },
  {
   "cell_type": "code",
   "execution_count": 5,
   "metadata": {},
   "outputs": [],
   "source": [
    "scale_table['Year'] = range(1814, 2020)"
   ]
  },
  {
   "cell_type": "code",
   "execution_count": 13,
   "metadata": {},
   "outputs": [
    {
     "name": "stdout",
     "output_type": "stream",
     "text": [
      "AREA prev,0.55,0.4602\n",
      "\n"
     ]
    },
    {
     "data": {
      "image/png": "[encoded data removed]",
      "text/plain": [
       "<Figure size 432x288 with 1 Axes>"
      ]
     },
     "metadata": {
      "needs_background": "light"
     },
     "output_type": "display_data"
    }
   ],
   "source": [
    "c1 = scale_table[scale_table['Class 4']==1]\n",
    "c2 = scale_table[scale_table['Class 4']==2]\n",
    "c3 = scale_table[scale_table['Class 4']==3]\n",
    "c4 = scale_table[scale_table['Class 4']==4]\n",
    "\n",
    "\n",
    "kruskalwallis = mstats.kruskalwallis(list(c3['Area'].dropna()), list(c4['Area'].dropna()))\n",
    "print(f\"AREA prev,{kruskalwallis.statistic:.2f},{kruskalwallis.pvalue:.4f}\\n\")\n",
    "#print(f\"{column},{weeks_to_month[column]},{kruskalwallis.statistic:.2f},{kruskalwallis.pvalue:.4f}\")\n",
    "#plt.boxplot([c1[column].dropna(), c2[column].dropna(), c3[column].dropna(), c4[column].dropna()])\n",
    "plt.boxplot([c3['Area'].dropna(), c4['Area'].dropna()], labels=['3', '4'])\n",
    "plt.title(\"Area prev\")\n",
    "plt.show()"
   ]
  },
  {
   "cell_type": "markdown",
   "metadata": {},
   "source": [
    "# Data preparation"
   ]
  },
  {
   "cell_type": "code",
   "execution_count": 3,
   "metadata": {},
   "outputs": [],
   "source": [
    "min_temp = pd.read_excel('../../input/MinClimate_MODIFIED.xlsx', sheet_name='TEMP_MOD')\n",
    "min_prec = pd.read_excel('../../input/MinClimate_MODIFIED.xlsx', sheet_name='PREC_MOD')\n",
    "a_classified = pd.read_excel('../../input/quotient_deviation_df_A_CLASSIFIED.xlsx')\n",
    "b_classified = pd.read_excel('../../input/quotient_deviation_df_B_CLASSIFIED_FIXED.xlsx')"
   ]
  },
  {
   "cell_type": "code",
   "execution_count": 4,
   "metadata": {},
   "outputs": [],
   "source": [
    "min_temp = get_moving_avg(min_temp)"
   ]
  },
  {
   "cell_type": "code",
   "execution_count": 6,
   "metadata": {},
   "outputs": [],
   "source": [
    "min_temp = min_temp[min_temp['Month']>4].reset_index(drop=True)\n",
    "min_temp = min_temp[min_temp['Month']<10].reset_index(drop=True)\n",
    "min_prec = min_prec[min_prec['Month']>4].reset_index(drop=True)\n",
    "min_prec = min_prec[min_prec['Month']<10].reset_index(drop=True)"
   ]
  },
  {
   "cell_type": "code",
   "execution_count": 7,
   "metadata": {},
   "outputs": [],
   "source": [
    "min_cumsum_prec = min_prec.cumsum()\n",
    "min_cumsum_prec = get_moving_avg(min_cumsum_prec)\n",
    "min_cumsum_prec['Month'] = min_prec['Month']\n",
    "min_cumsum_prec['Week'] = min_prec['Week']\n",
    "min_cumsum_prec['Day'] = min_prec['Day']"
   ]
  },
  {
   "cell_type": "code",
   "execution_count": 8,
   "metadata": {},
   "outputs": [],
   "source": [
    "prec_max = max(min_cumsum_prec.max(skipna=True)[3:])\n",
    "prec_min = min(min_cumsum_prec.min(skipna=True)[3:])"
   ]
  },
  {
   "cell_type": "code",
   "execution_count": 9,
   "metadata": {},
   "outputs": [],
   "source": [
    "scaled_prec = (min_cumsum_prec - prec_min) / (prec_max - prec_min)\n",
    "scaled_prec['Month'] = min_prec['Month']\n",
    "scaled_prec['Week'] = min_prec['Week']\n",
    "scaled_prec['Day'] = min_prec['Day']"
   ]
  },
  {
   "cell_type": "code",
   "execution_count": 10,
   "metadata": {},
   "outputs": [],
   "source": [
    "temp_max = max(min_temp.max(skipna=True)[3:])\n",
    "temp_min = min(min_temp.min(skipna=True)[3:])"
   ]
  },
  {
   "cell_type": "code",
   "execution_count": 12,
   "metadata": {},
   "outputs": [],
   "source": [
    "scaled_temp = (min_temp - temp_min) / (temp_max - temp_min)\n",
    "scaled_temp['Month'] = min_temp['Month']\n",
    "scaled_temp['Week'] = min_temp['Week']\n",
    "scaled_temp['Day'] = min_temp['Day']"
   ]
  },
  {
   "cell_type": "code",
   "execution_count": 23,
   "metadata": {},
   "outputs": [
    {
     "name": "stderr",
     "output_type": "stream",
     "text": [
      "C:\\Users\\8FEE~1\\AppData\\Local\\Temp/ipykernel_13892/1066384259.py:6: SettingWithCopyWarning: \n",
      "A value is trying to be set on a copy of a slice from a DataFrame.\n",
      "Try using .loc[row_indexer,col_indexer] = value instead\n",
      "\n",
      "See the caveats in the documentation: https://pandas.pydata.org/pandas-docs/stable/user_guide/indexing.html#returning-a-view-versus-a-copy\n",
      "  scaled_moved_temp[column+1] = scaled_temp[column]\n",
      "C:\\Users\\8FEE~1\\AppData\\Local\\Temp/ipykernel_13892/1066384259.py:7: SettingWithCopyWarning: \n",
      "A value is trying to be set on a copy of a slice from a DataFrame.\n",
      "Try using .loc[row_indexer,col_indexer] = value instead\n",
      "\n",
      "See the caveats in the documentation: https://pandas.pydata.org/pandas-docs/stable/user_guide/indexing.html#returning-a-view-versus-a-copy\n",
      "  scaled_moved_prec[column+1] = scaled_prec[column]\n"
     ]
    }
   ],
   "source": [
    "scaled_moved_temp = scaled_temp[['Month', 'Week', 'Day']]\n",
    "scaled_moved_prec = scaled_prec[['Month', 'Week', 'Day']]\n",
    "\n",
    "for column in scaled_prec.columns:\n",
    "    if not column in ['Month', 'Week', 'Day']:\n",
    "        scaled_moved_temp[column+1] = scaled_temp[column]\n",
    "        scaled_moved_prec[column+1] = scaled_prec[column]"
   ]
  },
  {
   "cell_type": "code",
   "execution_count": 30,
   "metadata": {},
   "outputs": [],
   "source": [
    "area_df = abs(scaled_moved_temp - scaled_moved_prec)\n",
    "area_df['Month'] = scaled_moved_temp['Month']\n",
    "area_df['Week'] = scaled_moved_temp['Week']\n",
    "area_df['Day'] = scaled_moved_temp['Day']"
   ]
  },
  {
   "cell_type": "markdown",
   "metadata": {},
   "source": [
    "# Monthly"
   ]
  },
  {
   "cell_type": "code",
   "execution_count": 50,
   "metadata": {},
   "outputs": [],
   "source": [
    "monthly_area = pd.DataFrame({\n",
    "    'Year': area_df.columns[3:]\n",
    "})\n",
    "\n",
    "for month in set(area_df['Month']):\n",
    "    area = area_df[area_df['Month']==month].sum(skipna=True)[3:]\n",
    "    monthly_area[month] = list(area)\n",
    "\n",
    "monthly_area['Class'] = list(a_classified[a_classified['Year']>1915]['Class 4']+1)+[np.nan]"
   ]
  },
  {
   "cell_type": "code",
   "execution_count": 64,
   "metadata": {},
   "outputs": [
    {
     "data": {
      "text/html": [
       "<div>\n",
       "<style scoped>\n",
       "    .dataframe tbody tr th:only-of-type {\n",
       "        vertical-align: middle;\n",
       "    }\n",
       "\n",
       "    .dataframe tbody tr th {\n",
       "        vertical-align: top;\n",
       "    }\n",
       "\n",
       "    .dataframe thead th {\n",
       "        text-align: right;\n",
       "    }\n",
       "</style>\n",
       "<table border=\"1\" class=\"dataframe\">\n",
       "  <thead>\n",
       "    <tr style=\"text-align: right;\">\n",
       "      <th></th>\n",
       "      <th>Year</th>\n",
       "      <th>5</th>\n",
       "      <th>6</th>\n",
       "      <th>7</th>\n",
       "      <th>8</th>\n",
       "      <th>9</th>\n",
       "      <th>Class</th>\n",
       "    </tr>\n",
       "  </thead>\n",
       "  <tbody>\n",
       "    <tr>\n",
       "      <th>0</th>\n",
       "      <td>1916</td>\n",
       "      <td>10.801154</td>\n",
       "      <td>11.870140</td>\n",
       "      <td>13.559567</td>\n",
       "      <td>5.778459</td>\n",
       "      <td>3.500285</td>\n",
       "      <td>2.0</td>\n",
       "    </tr>\n",
       "    <tr>\n",
       "      <th>1</th>\n",
       "      <td>1917</td>\n",
       "      <td>7.219582</td>\n",
       "      <td>9.084387</td>\n",
       "      <td>8.205363</td>\n",
       "      <td>3.921252</td>\n",
       "      <td>3.602135</td>\n",
       "      <td>2.0</td>\n",
       "    </tr>\n",
       "    <tr>\n",
       "      <th>2</th>\n",
       "      <td>1918</td>\n",
       "      <td>9.611271</td>\n",
       "      <td>11.404139</td>\n",
       "      <td>9.581226</td>\n",
       "      <td>3.110037</td>\n",
       "      <td>3.857755</td>\n",
       "      <td>4.0</td>\n",
       "    </tr>\n",
       "    <tr>\n",
       "      <th>3</th>\n",
       "      <td>1919</td>\n",
       "      <td>8.248768</td>\n",
       "      <td>9.992424</td>\n",
       "      <td>5.878684</td>\n",
       "      <td>2.259541</td>\n",
       "      <td>5.404343</td>\n",
       "      <td>2.0</td>\n",
       "    </tr>\n",
       "    <tr>\n",
       "      <th>4</th>\n",
       "      <td>1920</td>\n",
       "      <td>7.365286</td>\n",
       "      <td>7.115985</td>\n",
       "      <td>7.895693</td>\n",
       "      <td>0.467934</td>\n",
       "      <td>7.422123</td>\n",
       "      <td>2.0</td>\n",
       "    </tr>\n",
       "    <tr>\n",
       "      <th>...</th>\n",
       "      <td>...</td>\n",
       "      <td>...</td>\n",
       "      <td>...</td>\n",
       "      <td>...</td>\n",
       "      <td>...</td>\n",
       "      <td>...</td>\n",
       "      <td>...</td>\n",
       "    </tr>\n",
       "    <tr>\n",
       "      <th>99</th>\n",
       "      <td>2015</td>\n",
       "      <td>4.860347</td>\n",
       "      <td>6.513452</td>\n",
       "      <td>4.896367</td>\n",
       "      <td>1.709608</td>\n",
       "      <td>8.623910</td>\n",
       "      <td>4.0</td>\n",
       "    </tr>\n",
       "    <tr>\n",
       "      <th>100</th>\n",
       "      <td>2016</td>\n",
       "      <td>9.496975</td>\n",
       "      <td>11.893152</td>\n",
       "      <td>10.119842</td>\n",
       "      <td>2.633322</td>\n",
       "      <td>7.425848</td>\n",
       "      <td>1.0</td>\n",
       "    </tr>\n",
       "    <tr>\n",
       "      <th>101</th>\n",
       "      <td>2017</td>\n",
       "      <td>7.460361</td>\n",
       "      <td>10.254773</td>\n",
       "      <td>7.370947</td>\n",
       "      <td>3.440001</td>\n",
       "      <td>8.615948</td>\n",
       "      <td>2.0</td>\n",
       "    </tr>\n",
       "    <tr>\n",
       "      <th>102</th>\n",
       "      <td>2018</td>\n",
       "      <td>8.268844</td>\n",
       "      <td>10.165761</td>\n",
       "      <td>2.165342</td>\n",
       "      <td>2.511055</td>\n",
       "      <td>0.000000</td>\n",
       "      <td>1.0</td>\n",
       "    </tr>\n",
       "    <tr>\n",
       "      <th>103</th>\n",
       "      <td>2019</td>\n",
       "      <td>0.000000</td>\n",
       "      <td>0.000000</td>\n",
       "      <td>0.000000</td>\n",
       "      <td>0.000000</td>\n",
       "      <td>0.000000</td>\n",
       "      <td>NaN</td>\n",
       "    </tr>\n",
       "  </tbody>\n",
       "</table>\n",
       "<p>104 rows × 7 columns</p>\n",
       "</div>"
      ],
      "text/plain": [
       "     Year          5          6          7         8         9  Class\n",
       "0    1916  10.801154  11.870140  13.559567  5.778459  3.500285    2.0\n",
       "1    1917   7.219582   9.084387   8.205363  3.921252  3.602135    2.0\n",
       "2    1918   9.611271  11.404139   9.581226  3.110037  3.857755    4.0\n",
       "3    1919   8.248768   9.992424   5.878684  2.259541  5.404343    2.0\n",
       "4    1920   7.365286   7.115985   7.895693  0.467934  7.422123    2.0\n",
       "..    ...        ...        ...        ...       ...       ...    ...\n",
       "99   2015   4.860347   6.513452   4.896367  1.709608  8.623910    4.0\n",
       "100  2016   9.496975  11.893152  10.119842  2.633322  7.425848    1.0\n",
       "101  2017   7.460361  10.254773   7.370947  3.440001  8.615948    2.0\n",
       "102  2018   8.268844  10.165761   2.165342  2.511055  0.000000    1.0\n",
       "103  2019   0.000000   0.000000   0.000000  0.000000  0.000000    NaN\n",
       "\n",
       "[104 rows x 7 columns]"
      ]
     },
     "execution_count": 64,
     "metadata": {},
     "output_type": "execute_result"
    }
   ],
   "source": [
    "monthly_area"
   ]
  },
  {
   "cell_type": "markdown",
   "metadata": {},
   "source": [
    "# Weekly"
   ]
  },
  {
   "cell_type": "code",
   "execution_count": 52,
   "metadata": {},
   "outputs": [],
   "source": [
    "weekly_area = pd.DataFrame({\n",
    "    'Year': area_df.columns[3:]\n",
    "})\n",
    "\n",
    "for week in set(area_df['Week']):\n",
    "    area = area_df[area_df['Week']==week].sum(skipna=True)[3:]\n",
    "    weekly_area[week] = list(area)\n",
    "\n",
    "weekly_area['Class'] = list(a_classified[a_classified['Year']>1915]['Class 4']+1)+[np.nan]"
   ]
  },
  {
   "cell_type": "code",
   "execution_count": 63,
   "metadata": {},
   "outputs": [],
   "source": []
  },
  {
   "cell_type": "code",
   "execution_count": null,
   "metadata": {},
   "outputs": [],
   "source": []
  }
 ],
 "metadata": {
  "interpreter": {
   "hash": "ea00faadcfb8ab3c64085c6facc6f20135a21130ce7141e34f66da8bb95f9659"
  },
  "kernelspec": {
   "display_name": "Python 3.9.4 64-bit",
   "language": "python",
   "name": "python3"
  },
  "language_info": {
   "codemirror_mode": {
    "name": "ipython",
    "version": 3
   },
   "file_extension": ".py",
   "mimetype": "text/x-python",
   "name": "python",
   "nbconvert_exporter": "python",
   "pygments_lexer": "ipython3",
   "version": "3.9.4"
  },
  "orig_nbformat": 4
 },
 "nbformat": 4,
 "nbformat_minor": 2
}
