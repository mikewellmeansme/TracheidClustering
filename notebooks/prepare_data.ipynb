{
 "cells": [
  {
   "cell_type": "code",
   "execution_count": 1,
   "metadata": {},
   "outputs": [],
   "source": [
    "import sys\n",
    "import pandas as pd\n",
    "sys.path.append('..')"
   ]
  },
  {
   "cell_type": "markdown",
   "metadata": {},
   "source": [
    "# Подготовка данных"
   ]
  },
  {
   "cell_type": "markdown",
   "metadata": {},
   "source": [
    "Загрузка данных"
   ]
  },
  {
   "cell_type": "code",
   "execution_count": 3,
   "metadata": {},
   "outputs": [],
   "source": [
    "xlsx_file = pd.ExcelFile('../input/БОГРАД_PISY.xlsx')\n",
    "trees = ['pisy_01a', 'pisy_01b', 'pisy_02a', 'pisy_03a', 'pisy_07a', 'pisy_12b', 'pisy_14a']\n",
    "columns = {_:f'D{__}' if __<16 else f'CWT{__-15}' for _, __ in zip(range(2,32), range(1,31))}\n",
    "columns[0] = 'Tree'\n",
    "columns[1] = 'Year'"
   ]
  },
  {
   "cell_type": "markdown",
   "metadata": {},
   "source": [
    "DELETE:"
   ]
  },
  {
   "cell_type": "code",
   "execution_count": 54,
   "metadata": {},
   "outputs": [
    {
     "name": "stdout",
     "output_type": "stream",
     "text": [
      "pisy_01a: mean = 21.34, median = 18.0, mode = 13\n",
      "pisy_01b: mean = 21.46, median = 18.0, mode = 19\n",
      "pisy_02a: mean = 28.33, median = 23.0, mode = 17\n",
      "pisy_03a: mean = 11.30, median = 10.0, mode = 8\n",
      "pisy_07a: mean = 16.96, median = 16.0, mode = 17\n",
      "pisy_12b: mean = 18.81, median = 16.0, mode = 16\n",
      "pisy_14a: mean = 18.95, median = 17.5, mode = 12\n",
      " GLOBAL : mean = 19.27, median = 16.0, mode = 11\n"
     ]
    },
    {
     "data": {
      "image/png": "[encoded data removed]",
      "text/plain": [
       "<Figure size 432x288 with 1 Axes>"
      ]
     },
     "metadata": {
      "needs_background": "light"
     },
     "output_type": "display_data"
    }
   ],
   "source": [
    "import matplotlib.pyplot as plt\n",
    "import numpy as np\n",
    "from scipy.stats import mode\n",
    "\n",
    "Ns = dict()\n",
    "for tree in trees:\n",
    "    df = xlsx_file.parse(tree)\n",
    "    df = df.loc[:, ~df.columns.str.contains('^Unnamed')]\n",
    "    df = df.dropna(axis=0)\n",
    "    Ns[tree] = []\n",
    "    for year in set(df['Год']):\n",
    "        N = len(df[df['Год']==year])\n",
    "        if N > 3:\n",
    "            Ns[tree] += [N]\n",
    "\n",
    "TOTAL = []\n",
    "for tree in trees:\n",
    "    TOTAL += Ns[tree]\n",
    "    me = np.mean(Ns[tree])\n",
    "    med = np.median(Ns[tree])\n",
    "    print(f\"{tree}: mean = {me:.2f}, median = {med}, mode = {mode(Ns[tree])[0][0]}\")\n",
    "print(f\" GLOBAL : mean = {np.mean(TOTAL):.2f}, median = {np.median(TOTAL)}, mode = {mode(TOTAL)[0][0]}\")\n",
    "\n",
    "plt.hist(TOTAL, bins=30)\n",
    "plt.title(\"Общее распределение числа клеток в году \\n по всем деревьям\")\n",
    "plt.show()"
   ]
  },
  {
   "cell_type": "markdown",
   "metadata": {},
   "source": [
    "Функция нормализации трахеид"
   ]
  },
  {
   "cell_type": "code",
   "execution_count": null,
   "metadata": {},
   "outputs": [],
   "source": [
    "def get_normalized_list(x: list, norm : int):\n",
    "    \"\"\"\n",
    "    Функция получения нормированного списка\n",
    "    :param x: список для нормирования\n",
    "    :param norm: норма\n",
    "    :return: l_norm - нормированный к e список l\n",
    "    \"\"\"\n",
    "    l_raw = []  # промежуточный список\n",
    "    n = len(x)\n",
    "    for i in range(n):\n",
    "        for j in range(norm):\n",
    "            l_raw += [x[i]]\n",
    "    l_norm = []\n",
    "    for i in range(norm):\n",
    "        l_norm += [1 / n * sum([l_raw[j] for j in range(n * i, n * (i + 1))])]\n",
    "    return l_norm"
   ]
  },
  {
   "cell_type": "markdown",
   "metadata": {},
   "source": [
    "Нормализуем входные данные"
   ]
  },
  {
   "cell_type": "code",
   "execution_count": null,
   "metadata": {},
   "outputs": [],
   "source": [
    "dataframes = []\n",
    "for tree in trees:\n",
    "    df = xlsx_file.parse(tree)\n",
    "    df = df.loc[:, ~df.columns.str.contains('^Unnamed')]\n",
    "    df = df.dropna(axis=0)\n",
    "\n",
    "    norm_traches = dict()\n",
    "    for year in set(df['Год']):\n",
    "        norm_traches[int(year)] = [tree, int(year)] + get_normalized_list(list(df[df['Год']==year]['Dmean']), 15)+ get_normalized_list(list(df[df['Год']==year]['CWTmean']), 15)\n",
    "    \n",
    "    dataframes += [pd.DataFrame(norm_traches).transpose().rename(columns=columns).reset_index(drop=True)]\n",
    "\n",
    "df = pd.concat(dataframes).reset_index(drop=True)"
   ]
  },
  {
   "cell_type": "markdown",
   "metadata": {},
   "source": [
    "Сохраняем их в .xlsx файл"
   ]
  },
  {
   "cell_type": "code",
   "execution_count": null,
   "metadata": {},
   "outputs": [],
   "source": [
    "df.to_excel('../output/Bograd_PISY_normalized.xlsx', index=False)"
   ]
  },
  {
   "cell_type": "markdown",
   "metadata": {},
   "source": [
    "Рассчёт средних значений трахеид по годам и по деревьям:"
   ]
  },
  {
   "cell_type": "code",
   "execution_count": null,
   "metadata": {},
   "outputs": [],
   "source": [
    "mean_objects_years = dict()\n",
    "\n",
    "for year in set(df['Year']):\n",
    "    temp_data = df[df['Year']==year]\n",
    "    if len(temp_data) > 3:\n",
    "        mean_objects_years[year] = temp_data.mean()[1:]\n",
    "\n",
    "\n",
    "mean_objects_trees = dict()\n",
    "\n",
    "for tree in set(df['Tree']):\n",
    "    mean_objects_trees[tree] = df[df['Tree']==tree].mean()[1:]"
   ]
  },
  {
   "cell_type": "markdown",
   "metadata": {},
   "source": [
    "Считаем средние значения трахеид по всем записям"
   ]
  },
  {
   "cell_type": "code",
   "execution_count": null,
   "metadata": {},
   "outputs": [],
   "source": [
    "global_mean = df.mean()[1:]"
   ]
  },
  {
   "cell_type": "markdown",
   "metadata": {},
   "source": [
    "Строим таблицы объектов для метода A -- кластеризация отклонений средних объектов по году от среднего глобального объекта:"
   ]
  },
  {
   "cell_type": "code",
   "execution_count": null,
   "metadata": {},
   "outputs": [],
   "source": [
    "quotient_deviation_df_A = []\n",
    "\n",
    "_columns = {_:f'D{_}' if _<16 else f'CWT{_-15}' for _ in  range(1,31)}\n",
    "_columns[0] = 'Year'\n",
    "\n",
    "for year, mean_obj in mean_objects_years.items():\n",
    "    quotient_deviation_df_A += [[year] + list(mean_obj/global_mean)]\n",
    "\n",
    "quotient_deviation_df_A = pd.DataFrame(quotient_deviation_df_A).rename(columns=_columns)"
   ]
  },
  {
   "cell_type": "code",
   "execution_count": null,
   "metadata": {},
   "outputs": [],
   "source": [
    "quotient_deviation_df_A.to_excel('../output/quotient_deviation_df_A.xlsx', index=False)"
   ]
  },
  {
   "cell_type": "markdown",
   "metadata": {},
   "source": [
    "Строим таблицы объектов для метода B -- кластеризация средних отклонений объектов по году от среднего объекта по дереву:"
   ]
  },
  {
   "cell_type": "code",
   "execution_count": null,
   "metadata": {},
   "outputs": [],
   "source": [
    "qd_df_B = []\n",
    "\n",
    "quotient_deviation_df_B = dict()\n",
    "\n",
    "\n",
    "for _, row in df.iterrows():\n",
    "    qd_df_B += [[row[0], row[1]] + list(row[2:] / mean_objects_trees[row[0]])]\n",
    "\n",
    "qd_df_B = pd.DataFrame(qd_df_B).rename(columns=columns)\n",
    "\n",
    "for year in set(df['Year']):\n",
    "    temp_data_q = qd_df_B[qd_df_B['Year']==year]\n",
    "    if len(temp_data_q) > 3:\n",
    "        quotient_deviation_df_B[year] = temp_data_q.mean()[1:]\n",
    "\n",
    "quotient_deviation_df_B = pd.DataFrame(quotient_deviation_df_B).transpose()"
   ]
  },
  {
   "cell_type": "code",
   "execution_count": null,
   "metadata": {},
   "outputs": [],
   "source": [
    "quotient_deviation_df_B.to_excel('../output/quotient_deviation_df_B.xlsx', index=True)"
   ]
  }
 ],
 "metadata": {
  "interpreter": {
   "hash": "f649158f7c33c6404512ef6eab241b4bcb236cb55f6502e8325131a5b8388ac6"
  },
  "kernelspec": {
   "display_name": "Python 3.9.7 64-bit",
   "language": "python",
   "name": "python3"
  },
  "language_info": {
   "codemirror_mode": {
    "name": "ipython",
    "version": 3
   },
   "file_extension": ".py",
   "mimetype": "text/x-python",
   "name": "python",
   "nbconvert_exporter": "python",
   "pygments_lexer": "ipython3",
   "version": "3.9.7"
  },
  "orig_nbformat": 4
 },
 "nbformat": 4,
 "nbformat_minor": 2
}
