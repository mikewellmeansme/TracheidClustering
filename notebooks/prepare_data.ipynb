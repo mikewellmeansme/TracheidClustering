{
 "cells": [
  {
   "cell_type": "code",
   "execution_count": null,
   "metadata": {},
   "outputs": [],
   "source": [
    "import os,sys,inspect\n",
    "current_dir = os.path.dirname(os.path.abspath(inspect.getfile(inspect.currentframe())))\n",
    "parent_dir = os.path.dirname(current_dir)\n",
    "sys.path.insert(0, parent_dir) "
   ]
  },
  {
   "cell_type": "markdown",
   "metadata": {},
   "source": [
    "# Подготовка данных"
   ]
  },
  {
   "cell_type": "markdown",
   "metadata": {},
   "source": [
    "Загрузка данных"
   ]
  },
  {
   "cell_type": "code",
   "execution_count": null,
   "metadata": {},
   "outputs": [],
   "source": [
    "xlsx_file = pd.ExcelFile('input/БОГРАД_PISY.xlsx')\n",
    "trees = ['pisy_01a', 'pisy_01b', 'pisy_02a', 'pisy_03a', 'pisy_07a', 'pisy_12b', 'pisy_14a']\n",
    "columns = {_:f'D{__}' if __<16 else f'CWT{__-15}' for _, __ in zip(range(2,32), range(1,31))}\n",
    "columns[0] = 'Tree'\n",
    "columns[1] = 'Year'"
   ]
  },
  {
   "cell_type": "markdown",
   "metadata": {},
   "source": [
    "Функция нормализации трахеид"
   ]
  },
  {
   "cell_type": "code",
   "execution_count": null,
   "metadata": {},
   "outputs": [],
   "source": [
    "def get_normalized_list(x: list, norm : int):\n",
    "    \"\"\"\n",
    "    Функция получения нормированного списка\n",
    "    :param x: список для нормирования\n",
    "    :param norm: норма\n",
    "    :return: l_norm - нормированный к e список l\n",
    "    \"\"\"\n",
    "    l_raw = []  # промежуточный список\n",
    "    n = len(x)\n",
    "    for i in range(n):\n",
    "        for j in range(norm):\n",
    "            l_raw += [x[i]]\n",
    "    l_norm = []\n",
    "    for i in range(norm):\n",
    "        l_norm += [1 / n * sum([l_raw[j] for j in range(n * i, n * (i + 1))])]\n",
    "    return l_norm"
   ]
  },
  {
   "cell_type": "markdown",
   "metadata": {},
   "source": [
    "Нормализуем входные данные"
   ]
  },
  {
   "cell_type": "code",
   "execution_count": null,
   "metadata": {},
   "outputs": [],
   "source": [
    "dataframes = []\n",
    "for tree in trees:\n",
    "    df = xlsx_file.parse(tree)\n",
    "    df = df.loc[:, ~df.columns.str.contains('^Unnamed')]\n",
    "    df = df.dropna(axis=0)\n",
    "\n",
    "    norm_traches = dict()\n",
    "    for year in set(df['Год']):\n",
    "        norm_traches[int(year)] = [tree, int(year)] + get_normalized_list(list(df[df['Год']==year]['Dmean']), 15)+ get_normalized_list(list(df[df['Год']==year]['CWTmean']), 15)\n",
    "    \n",
    "    dataframes += [pd.DataFrame(norm_traches).transpose().rename(columns=columns).reset_index(drop=True)]\n",
    "\n",
    "df = pd.concat(dataframes).reset_index(drop=True)"
   ]
  },
  {
   "cell_type": "markdown",
   "metadata": {},
   "source": [
    "Сохраняем их в .xlsx файл"
   ]
  },
  {
   "cell_type": "code",
   "execution_count": null,
   "metadata": {},
   "outputs": [],
   "source": [
    "df.to_excel('output/Bograd_PISY_normalized.xlsx', index=False)"
   ]
  },
  {
   "cell_type": "markdown",
   "metadata": {},
   "source": [
    "Рассчёт средних значений трахеид по годам и по деревьям:"
   ]
  },
  {
   "cell_type": "code",
   "execution_count": null,
   "metadata": {},
   "outputs": [],
   "source": [
    "mean_objects_years = dict()\n",
    "\n",
    "for year in set(df['Year']):\n",
    "    temp_data = df[df['Year']==year]\n",
    "    if len(temp_data) > 3:\n",
    "        mean_objects_years[year] = temp_data.mean()[1:]\n",
    "\n",
    "\n",
    "mean_objects_trees = dict()\n",
    "\n",
    "for tree in set(df['Tree']):\n",
    "    mean_objects_trees[tree] = df[df['Tree']==tree].mean()[1:]"
   ]
  },
  {
   "cell_type": "markdown",
   "metadata": {},
   "source": [
    "Считаем средние значения трахеид по всем записям"
   ]
  },
  {
   "cell_type": "code",
   "execution_count": null,
   "metadata": {},
   "outputs": [],
   "source": [
    "global_mean = df.mean()[1:]"
   ]
  },
  {
   "cell_type": "markdown",
   "metadata": {},
   "source": [
    "Строим таблицы объектов для метода A -- кластеризация отклонений средних объектов по году от среднего глобального объекта:"
   ]
  },
  {
   "cell_type": "code",
   "execution_count": null,
   "metadata": {},
   "outputs": [],
   "source": [
    "quotient_deviation_df_A = []\n",
    "\n",
    "_columns = {_:f'D{_}' if _<16 else f'CWT{_-15}' for _ in  range(1,31)}\n",
    "_columns[0] = 'Year'\n",
    "\n",
    "for year, mean_obj in mean_objects_years.items():\n",
    "    quotient_deviation_df_A += [[year] + list(mean_obj/global_mean)]\n",
    "\n",
    "quotient_deviation_df_A = pd.DataFrame(quotient_deviation_df_A).rename(columns=_columns)"
   ]
  },
  {
   "cell_type": "code",
   "execution_count": null,
   "metadata": {},
   "outputs": [],
   "source": [
    "quotient_deviation_df_A.to_excel('output/quotient_deviation_df_A.xlsx', index=False)"
   ]
  },
  {
   "cell_type": "markdown",
   "metadata": {},
   "source": [
    "Строим таблицы объектов для метода B -- кластеризация средних отклонений объектов по году от среднего объекта по дереву:"
   ]
  },
  {
   "cell_type": "code",
   "execution_count": null,
   "metadata": {},
   "outputs": [],
   "source": [
    "qd_df_B = []\n",
    "\n",
    "quotient_deviation_df_B = dict()\n",
    "\n",
    "\n",
    "for _, row in df.iterrows():\n",
    "    qd_df_B += [[row[0], row[1]] + list(row[2:] / mean_objects_trees[row[0]])]\n",
    "\n",
    "qd_df_B = pd.DataFrame(qd_df_B).rename(columns=columns)\n",
    "\n",
    "for year in set(df['Year']):\n",
    "    temp_data_q = qd_df_B[qd_df_B['Year']==year]\n",
    "    if len(temp_data_q) > 3:\n",
    "        quotient_deviation_df_B[year] = temp_data_q.mean()[1:]\n",
    "\n",
    "quotient_deviation_df_B = pd.DataFrame(quotient_deviation_df_B).transpose()"
   ]
  },
  {
   "cell_type": "code",
   "execution_count": null,
   "metadata": {},
   "outputs": [],
   "source": [
    "quotient_deviation_df_B.to_excel('output/quotient_deviation_df_B.xlsx', index=True)"
   ]
  }
 ],
 "metadata": {
  "language_info": {
   "name": "python"
  },
  "orig_nbformat": 4
 },
 "nbformat": 4,
 "nbformat_minor": 2
}
