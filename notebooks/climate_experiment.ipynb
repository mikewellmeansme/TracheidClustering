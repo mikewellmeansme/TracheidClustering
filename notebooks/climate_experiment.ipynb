{
 "cells": [
  {
   "cell_type": "code",
   "execution_count": 1,
   "metadata": {},
   "outputs": [],
   "source": [
    "import sys \n",
    "sys.path.append('..')"
   ]
  },
  {
   "cell_type": "code",
   "execution_count": 2,
   "metadata": {},
   "outputs": [],
   "source": [
    "import pandas as pd\n",
    "import numpy as np\n",
    "import matplotlib.pyplot as plt\n",
    "import matplotlib.dates as mdates\n",
    "from scipy.stats import mstats"
   ]
  },
  {
   "cell_type": "code",
   "execution_count": 11,
   "metadata": {},
   "outputs": [],
   "source": [
    "min_temp = pd.read_excel('../input/MinClimate.xlsx', sheet_name='Temp')\n",
    "min_prec = pd.read_excel('../input/MinClimate.xlsx', sheet_name='Prec')\n",
    "a_classified = pd.read_excel('../input/quotient_deviation_df_A_CLASSIFIED.xlsx')\n",
    "b_classified = pd.read_excel('../input/quotient_deviation_df_B_CLASSIFIED_FIXED.xlsx')\n",
    "scale_table = pd.read_excel('../output/to_send/005/scale_table.xlsx')"
   ]
  },
  {
   "cell_type": "code",
   "execution_count": 106,
   "metadata": {},
   "outputs": [
    {
     "name": "stderr",
     "output_type": "stream",
     "text": [
      "C:\\Users\\8FEE~1\\AppData\\Local\\Temp/ipykernel_12256/3367541355.py:1: UserWarning: Boolean Series key will be reindexed to match DataFrame index.\n",
      "  precs = pd.DataFrame(min_prec[min_prec['Month']<11][min_prec['Month']>7].sum()[2:], columns=['PREC'])\n"
     ]
    }
   ],
   "source": [
    "precs = pd.DataFrame(min_prec[min_prec['Month']<11][min_prec['Month']>7].sum()[2:], columns=['PREC'])\n",
    "precs['Year'] = precs.index\n",
    "precs = precs.reset_index(drop=True)"
   ]
  },
  {
   "cell_type": "code",
   "execution_count": 107,
   "metadata": {},
   "outputs": [],
   "source": [
    "precs['Year'] = range(1916, 2019)"
   ]
  },
  {
   "cell_type": "code",
   "execution_count": 108,
   "metadata": {},
   "outputs": [],
   "source": [
    "scale_table_apn_precs = scale_table.merge(precs, on='Year', how='left')"
   ]
  },
  {
   "cell_type": "code",
   "execution_count": 109,
   "metadata": {},
   "outputs": [],
   "source": [
    "c1 = scale_table_apn_precs[scale_table_apn_precs['Class 4']==1]\n",
    "c2 = scale_table_apn_precs[scale_table_apn_precs['Class 4']==2]\n",
    "c3 = scale_table_apn_precs[scale_table_apn_precs['Class 4']==3]\n",
    "c4 = scale_table_apn_precs[scale_table_apn_precs['Class 4']==4]"
   ]
  },
  {
   "cell_type": "code",
   "execution_count": 110,
   "metadata": {},
   "outputs": [
    {
     "data": {
      "image/png": "[encoded data removed]",
      "text/plain": [
       "<Figure size 432x288 with 1 Axes>"
      ]
     },
     "metadata": {
      "needs_background": "light"
     },
     "output_type": "display_data"
    }
   ],
   "source": [
    "plt.boxplot([c1['PREC'].dropna(), c2['PREC'].dropna(), c3['PREC'].dropna(), c4['PREC'].dropna()])\n",
    "plt.title('PREC')\n",
    "plt.show()"
   ]
  },
  {
   "cell_type": "code",
   "execution_count": 111,
   "metadata": {},
   "outputs": [
    {
     "data": {
      "text/plain": [
       "KruskalResult(statistic=4.139642416820706, pvalue=0.2467747259567227)"
      ]
     },
     "execution_count": 111,
     "metadata": {},
     "output_type": "execute_result"
    }
   ],
   "source": [
    "mstats.kruskalwallis(list(c1['PREC'].dropna()), list(c2['PREC'].dropna()), list(c3['PREC'].dropna()), list(c4['PREC'].dropna()))"
   ]
  },
  {
   "cell_type": "markdown",
   "metadata": {},
   "source": [
    "# Kraskall-Walts cumulative precs from prev year"
   ]
  },
  {
   "cell_type": "code",
   "execution_count": 114,
   "metadata": {},
   "outputs": [],
   "source": [
    "min_temp_M = pd.read_excel('../input/MinClimate_MODIFIED.xlsx', sheet_name='TEMP_MOD')\n",
    "min_prec_M = pd.read_excel('../input/MinClimate_MODIFIED.xlsx', sheet_name='PREC_MOD')"
   ]
  },
  {
   "cell_type": "code",
   "execution_count": 157,
   "metadata": {},
   "outputs": [],
   "source": [
    "mean_temp = None\n",
    "sum_prec = None\n",
    "\n",
    "for week in set(min_temp_M['Week']):\n",
    "\n",
    "    a = min_temp_M[min_temp_M['Week'] == week].mean(skipna=True)\n",
    "    a['Week'] = week\n",
    "    if str(mean_temp) != 'None':\n",
    "        mean_temp = mean_temp.append(pd.DataFrame(a).T)\n",
    "    else:\n",
    "        mean_temp = pd.DataFrame(a).T\n",
    "    \n",
    "    a = min_prec_M[min_prec_M['Week'] == week].sum(skipna=True)\n",
    "    a['Week'] = week\n",
    "    if str(sum_prec) != 'None':\n",
    "        sum_prec = sum_prec.append(pd.DataFrame(a).T)\n",
    "    else:\n",
    "        sum_prec = pd.DataFrame(a).T"
   ]
  },
  {
   "cell_type": "code",
   "execution_count": 161,
   "metadata": {},
   "outputs": [],
   "source": [
    "mean_temp = mean_temp.reset_index(drop=True).drop(columns=['Month', 'Day'])\n",
    "sum_prec = sum_prec.reset_index(drop=True).drop(columns=['Month', 'Day'])"
   ]
  },
  {
   "cell_type": "code",
   "execution_count": 166,
   "metadata": {},
   "outputs": [],
   "source": [
    "mean_temp.T.to_excel('../output/mean_temp.xlsx', index=True)\n",
    "sum_prec.T.to_excel('../output/sum_prec.xlsx', index=True)"
   ]
  },
  {
   "cell_type": "markdown",
   "metadata": {},
   "source": [
    "Отсюда всё руками переделал в файл input/MinClimateWeekly.xlsx"
   ]
  },
  {
   "cell_type": "code",
   "execution_count": 167,
   "metadata": {},
   "outputs": [],
   "source": [
    "temp_weekly = pd.read_excel('../input/MinClimateWeekly.xlsx', sheet_name='MEAN_TEMP')\n",
    "prec_weekly = pd.read_excel('../input/MinClimateWeekly.xlsx', sheet_name='SUM_PREC')"
   ]
  },
  {
   "cell_type": "code",
   "execution_count": null,
   "metadata": {},
   "outputs": [],
   "source": [
    "months = {\n",
    "    1: 'Jan',\n",
    "    2: 'Feb',\n",
    "    3: 'Mar',\n",
    "    4: 'Apr',\n",
    "    5: 'May',\n",
    "    6: 'Jun',\n",
    "    7: 'Jul',\n",
    "    8: 'Aug',\n",
    "    9: 'Sep',\n",
    "    10: 'Oct',\n",
    "    11: 'Nov',\n",
    "    12: 'Dec',\n",
    "    -1: 'Dec prev',\n",
    "    -2: 'Nov prev',\n",
    "    -3: 'Oct prev',\n",
    "    -4: 'Sep prev',\n",
    "    -5: 'Aug prev',\n",
    "}\n",
    "\n",
    "def get_int_diapason(num):\n",
    "    if num % 1:\n",
    "        if num > 0:\n",
    "            return int(num), int(num)+1\n",
    "        else:\n",
    "            return int(num)-1, int(num) \n",
    "    else:\n",
    "        return num, num\n",
    "\n",
    "def get_month(el1, el2):\n",
    "    return f'{months[el1]} - {months[el2]}' if el1 != el2 else months[el1]\n",
    "\n",
    "weeks_to_month = dict()\n",
    "for week in min_temp_M['Week']:\n",
    "    \n",
    "    weeks_to_month[week] = get_month(*get_int_diapason(min_temp_M[min_temp_M['Week'] == week]['Month'].mean()))"
   ]
  },
  {
   "cell_type": "code",
   "execution_count": 255,
   "metadata": {},
   "outputs": [],
   "source": [
    "c1 = temp_weekly[temp_weekly['Class']==1]\n",
    "c2 = temp_weekly[temp_weekly['Class']==2]\n",
    "c3 = temp_weekly[temp_weekly['Class']==3]\n",
    "c4 = temp_weekly[temp_weekly['Class']==4]"
   ]
  },
  {
   "cell_type": "code",
   "execution_count": 256,
   "metadata": {},
   "outputs": [
    {
     "name": "stdout",
     "output_type": "stream",
     "text": [
      "Mar, 10, S = 12.57, p = 0.0057\n",
      "Mar, 11, S = 8.14, p = 0.0432\n",
      "Nov prev, 47 EX, S = 9.80, p = 0.0204\n",
      "Mar, 13, S = 8.37, p = 0.0389\n",
      "Apr - May, 18, S = 14.30, p = 0.0025\n",
      "May, 20, S = 8.84, p = 0.0315\n",
      "Jun, 23, S = 9.53, p = 0.0230\n",
      "Jul, 29, S = 8.30, p = 0.0401\n",
      "Aug prev - Sep prev, 35 EX, S = 8.62, p = 0.0348\n",
      "Sep prev, 39 EX, S = 8.34, p = 0.0394\n",
      "Nov, 47, S = 9.82, p = 0.0202\n",
      "Sep prev, 36 EX, S = 13.63, p = 0.0035\n",
      "Oct prev, 42 EX, S = 8.13, p = 0.0433\n"
     ]
    }
   ],
   "source": [
    "for column in temp_weekly.columns:\n",
    "    if column in ['Year', 'Class']:\n",
    "        continue\n",
    "    kruskalwallis = mstats.kruskalwallis(list(c1[column].dropna()), list(c2[column].dropna()), list(c3[column].dropna()), list(c4[column].dropna()))\n",
    "    if kruskalwallis.pvalue < 0.05:\n",
    "        print(f\"{weeks_to_month[column]}, {column}, S = {kruskalwallis.statistic:.2f}, p = {kruskalwallis.pvalue:.4f}\")\n",
    "        #plt.boxplot([c1[column].dropna(), c2[column].dropna(), c3[column].dropna(), c4[column].dropna()])\n",
    "        #plt.title(column)\n",
    "        #plt.show()"
   ]
  },
  {
   "cell_type": "code",
   "execution_count": 219,
   "metadata": {},
   "outputs": [],
   "source": [
    "c1 = prec_weekly[prec_weekly['Class']==1]\n",
    "c2 = prec_weekly[prec_weekly['Class']==2]\n",
    "c3 = prec_weekly[prec_weekly['Class']==3]\n",
    "c4 = prec_weekly[prec_weekly['Class']==4]"
   ]
  },
  {
   "cell_type": "code",
   "execution_count": 254,
   "metadata": {},
   "outputs": [
    {
     "name": "stdout",
     "output_type": "stream",
     "text": [
      "Sep, 38, S = 9.82, p = 0.0202\n",
      "Oct, 43, S = 8.53, p = 0.0363\n"
     ]
    }
   ],
   "source": [
    "for column in temp_weekly.columns:\n",
    "    if column in ['Year', 'Class']:\n",
    "        continue\n",
    "    kruskalwallis = mstats.kruskalwallis(list(c1[column].dropna()), list(c2[column].dropna()), list(c3[column].dropna()), list(c4[column].dropna()))\n",
    "    if kruskalwallis.pvalue < 0.05:\n",
    "        print(f\"{weeks_to_month[column]}, {column}, S = {kruskalwallis.statistic:.2f}, p = {kruskalwallis.pvalue:.4f}\")\n",
    "        #plt.boxplot([c1[column].dropna(), c2[column].dropna(), c3[column].dropna(), c4[column].dropna()])\n",
    "        #plt.title(column)\n",
    "        #plt.show()"
   ]
  }
 ],
 "metadata": {
  "interpreter": {
   "hash": "ea00faadcfb8ab3c64085c6facc6f20135a21130ce7141e34f66da8bb95f9659"
  },
  "kernelspec": {
   "display_name": "Python 3.9.4 64-bit",
   "language": "python",
   "name": "python3"
  },
  "language_info": {
   "codemirror_mode": {
    "name": "ipython",
    "version": 3
   },
   "file_extension": ".py",
   "mimetype": "text/x-python",
   "name": "python",
   "nbconvert_exporter": "python",
   "pygments_lexer": "ipython3",
   "version": "3.9.4"
  },
  "orig_nbformat": 4
 },
 "nbformat": 4,
 "nbformat_minor": 2
}
