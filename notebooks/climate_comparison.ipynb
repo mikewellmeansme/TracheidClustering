{
 "cells": [
  {
   "cell_type": "code",
   "execution_count": 1,
   "metadata": {},
   "outputs": [],
   "source": [
    "import sys \n",
    "sys.path.append('..')"
   ]
  },
  {
   "cell_type": "code",
   "execution_count": 2,
   "metadata": {},
   "outputs": [],
   "source": [
    "import pandas as pd\n",
    "import matplotlib.pyplot as plt"
   ]
  },
  {
   "cell_type": "markdown",
   "metadata": {},
   "source": [
    "# Сравнение с климатикой"
   ]
  },
  {
   "cell_type": "code",
   "execution_count": 3,
   "metadata": {},
   "outputs": [],
   "source": [
    "min_temp = pd.read_excel('../input/MinClimate.xlsx', sheet_name='Temp')\n",
    "min_prec = pd.read_excel('../input/MinClimate.xlsx', sheet_name='Prec')"
   ]
  },
  {
   "cell_type": "code",
   "execution_count": 4,
   "metadata": {},
   "outputs": [],
   "source": [
    "filtered_prec = min_prec[min_temp>=10]\n",
    "filtered_prec['Month'] = min_prec['Month']\n",
    "filtered_prec['Day'] = min_prec['Day']\n",
    "filtered_temp = min_temp[min_temp>=10]\n",
    "filtered_temp['Month'] = min_temp['Month']\n",
    "filtered_temp['Day'] = min_temp['Day']"
   ]
  },
  {
   "cell_type": "code",
   "execution_count": 5,
   "metadata": {},
   "outputs": [],
   "source": [
    "monthly_temp = pd.DataFrame({'Year':list(min_temp.columns[2:])})\n",
    "monthly_prec = pd.DataFrame({'Year':list(min_prec.columns[2:])})\n",
    "monthly_htc = pd.DataFrame({'Year':list(min_prec.columns[2:])})\n",
    "\n",
    "months_names = ['', 'January', 'February', 'March',\n",
    "                'April', 'May', 'June', 'July',\n",
    "                'August', 'September', 'October',\n",
    "                'November', 'December']\n",
    "\n",
    "for i in range(1,13):\n",
    "    monthly_htc[months_names[i]] = list(filtered_prec[filtered_prec['Month']==i].sum(skipna=True)[2:] * 10 / filtered_temp[filtered_temp['Month']==i].sum(skipna=True)[2:])\n",
    "    monthly_temp[months_names[i]] = list(min_temp[min_temp['Month']==i].mean(skipna=True)[2:])\n",
    "    monthly_prec[months_names[i]] = list(min_prec[min_prec['Month']==i].sum(skipna=True)[2:])"
   ]
  },
  {
   "cell_type": "code",
   "execution_count": 6,
   "metadata": {},
   "outputs": [],
   "source": [
    "monthly_vpd = pd.read_csv('../input/minusinsk_VPD/wr87011.txt', delimiter=';')"
   ]
  },
  {
   "cell_type": "code",
   "execution_count": 7,
   "metadata": {},
   "outputs": [],
   "source": [
    "a_classified = pd.read_excel('../input/quotient_deviation_df_A_CLASSIFIED.xlsx')\n",
    "b_classified = pd.read_excel('../input/quotient_deviation_df_B_CLASSIFIED_FIXED.xlsx')"
   ]
  },
  {
   "cell_type": "code",
   "execution_count": 8,
   "metadata": {},
   "outputs": [],
   "source": [
    "def get_moving_avg(df, window=7, nanmean=False):\n",
    "    \"\"\"\n",
    "    Возвращает скользящее средние для температуры\n",
    "    window : окно\n",
    "    nanmean : используем nanmean для сглаживания? (тогда потеряются данные по краям)\n",
    "    \"\"\"\n",
    "    month = df['Month']\n",
    "    day = df['Day']\n",
    "    if nanmean:\n",
    "        result = df.rolling(window=window, center=True).apply(np.nanmean)\n",
    "    else:\n",
    "        result = df.rolling(window=window, center=True, min_periods=1).mean()\n",
    "    result['Month'] = month\n",
    "    result['Day'] = day\n",
    "    return result\n",
    "\n",
    "def get_moving_sum(df, window=7):\n",
    "    \"\"\"\n",
    "    Возвращает скользящую сумму для осадков\n",
    "    window : окно\n",
    "    \"\"\"\n",
    "    month = df['Month']\n",
    "    day = df['Day']\n",
    "    result = df.rolling(window=window, center=True, min_periods=1).sum()\n",
    "    result['Month'] = month\n",
    "    result['Day'] = day\n",
    "    return result\n",
    "\n",
    "def list_to_cumulative(lst):\n",
    "    return [sum(lst[:i+1]) for i in range(len(lst))]"
   ]
  },
  {
   "cell_type": "code",
   "execution_count": 9,
   "metadata": {},
   "outputs": [],
   "source": [
    "import matplotlib.dates as mdates\n",
    "from datetime import date"
   ]
  },
  {
   "cell_type": "code",
   "execution_count": 10,
   "metadata": {},
   "outputs": [],
   "source": [
    "first_day = 91 +30 #, +44, +61\n",
    "last_day = -61 -31"
   ]
  },
  {
   "cell_type": "code",
   "execution_count": 12,
   "metadata": {},
   "outputs": [
    {
     "name": "stderr",
     "output_type": "stream",
     "text": [
      "C:\\Users\\Mikhail\\AppData\\Local\\Temp/ipykernel_5044/2870294080.py:2: SettingWithCopyWarning: \n",
      "A value is trying to be set on a copy of a slice from a DataFrame.\n",
      "Try using .loc[row_indexer,col_indexer] = value instead\n",
      "\n",
      "See the caveats in the documentation: https://pandas.pydata.org/pandas-docs/stable/user_guide/indexing.html#returning-a-view-versus-a-copy\n",
      "  date_df['Year'] = [2000 for _ in range(len(date_df))]\n"
     ]
    }
   ],
   "source": [
    "date_df = min_temp[['Month', 'Day']]\n",
    "date_df['Year'] = [2000 for _ in range(len(date_df))]\n",
    "x = pd.to_datetime(date_df)[first_day:last_day]\n",
    "\n",
    "for i in range(4):\n",
    "    mean_temp = get_moving_avg(min_temp)[[year for year in a_classified[a_classified['Class 4']==i]['Year'] if year in min_temp.columns]]\n",
    "    y = mean_temp.mean(axis=1)[first_day:last_day]\n",
    "    dy = mean_temp.std(axis=1)[first_day:last_day]\n",
    "\n",
    "    fig, ax = plt.subplots(nrows=3, ncols=1, dpi=300, figsize=(6, 8))\n",
    "    plt.subplots_adjust(bottom=0.03, top=0.95)\n",
    "\n",
    "    ax[0].fill_between(x, y-dy, y+dy, color='red', alpha=0.2)\n",
    "    ax[0].plot(x, y, c='red')\n",
    "\n",
    "    mean_prec = get_moving_avg(min_prec)[[year for year in a_classified[a_classified['Class 4']==i]['Year'] if year in min_prec.columns]]\n",
    "    y = mean_prec.mean(axis=1)[first_day:last_day]\n",
    "    dy = mean_prec.std(axis=1)[first_day:last_day]\n",
    "    ax2 = ax[0].twinx()\n",
    "    #ax2.fill_between(x, [0 for _ in y], list_to_cumulative(y), color='blue', alpha=0.1)\n",
    "    ax2.plot(x, list_to_cumulative(y), color='blue')\n",
    "    ax2.set_ylim([0, 350])\n",
    "    \n",
    "    ax[0].set_ylabel('Temperature (°C)')\n",
    "    ax2.set_ylabel('Precipitation (mm)')\n",
    "    ax[0].set_zorder(1)  # default zorder is 0 for ax1 and ax2\n",
    "    ax[0].patch.set_visible(False)  # prevents ax1 from hiding ax2\n",
    "\n",
    "    locator = mdates.AutoDateLocator(minticks=3, maxticks=7)\n",
    "    formatter = mdates.ConciseDateFormatter(locator)\n",
    "    ax[0].xaxis.set_major_locator(locator)\n",
    "    ax[0].xaxis.set_major_formatter(formatter)\n",
    "    ax[0].set_xlim([date(2000, 5, 1), date(2000, 9, 30)])\n",
    "    ax[0].set_ylim([0, 25])\n",
    "    selected = a_classified[a_classified['Class 4']==i]\n",
    "    temp_to_plot = monthly_temp.loc[monthly_temp['Year'].isin(list(selected['Year']))]\n",
    "    \n",
    "\n",
    "    for _, row in selected.iterrows():\n",
    "        ax[1].plot(list(row[1:16]), color='lightgray')\n",
    "        ax[2].plot(list(row[16: 31]), color='lightgray')\n",
    "    \n",
    "    ax[1].plot(selected.mean()[1:16], label='Diameter deviation', color='black')\n",
    "    ax[2].plot([f'C{j}' for j in range(1,16)], selected.mean()[16:31], label='CWT deviation', color='black')\n",
    "    ax[1].axhline(y=1, color='dimgray', linestyle='--')\n",
    "    ax[2].axhline(y=1, color='dimgray', linestyle='--')\n",
    "    #ax[1].legend(frameon=False)\n",
    "    ax[1].legend(frameon=False)\n",
    "    ax[2].legend(frameon=False)\n",
    "    ax[1].set_ylim([0.65, 1.35])\n",
    "    ax[2].set_ylim([0.65, 1.35])\n",
    "    ax[0].set_title(f'{i+1} Class')\n",
    "    plt.savefig(f'../output/{i+1} Class (d&cwt)', dpi=300)\n",
    "    plt.close(fig)\n",
    "    #plt.show()"
   ]
  },
  {
   "cell_type": "markdown",
   "metadata": {},
   "source": [
    "# ANOVA"
   ]
  },
  {
   "cell_type": "markdown",
   "metadata": {},
   "source": [
    "## ANOVA for Temperature"
   ]
  },
  {
   "cell_type": "code",
   "execution_count": 15,
   "metadata": {},
   "outputs": [],
   "source": [
    "import statsmodels.api as sm\n",
    "from statsmodels.formula.api import ols\n"
   ]
  },
  {
   "cell_type": "code",
   "execution_count": 16,
   "metadata": {},
   "outputs": [],
   "source": [
    "temp_to_anova = []\n",
    "for i in range(0,4):\n",
    "    mean_temp = get_moving_avg(min_temp)[[year for year in a_classified[a_classified['Class 4']==i]['Year'] if year in min_temp.columns]]\n",
    "    _temp_to_anova = mean_temp[7::7].T.reset_index().rename({'index':'Year'}, axis=1)\n",
    "    _temp_to_anova['Class'] = [i+1] * len(_temp_to_anova)\n",
    "    temp_to_anova += [_temp_to_anova]\n",
    "temp_to_anova = pd.concat(temp_to_anova)"
   ]
  },
  {
   "cell_type": "code",
   "execution_count": 18,
   "metadata": {},
   "outputs": [
    {
     "name": "stdout",
     "output_type": "stream",
     "text": [
      "12: 0.02\n",
      "16: 0.03\n",
      "17: 0.02\n",
      "18: 0.02\n",
      "20: 0.00\n",
      "23: 0.04\n",
      "27: 0.04\n",
      "28: 0.05\n",
      "29: 0.01\n",
      "30: 0.04\n"
     ]
    }
   ],
   "source": [
    "_ps = []\n",
    "for j in range(12,46):\n",
    "    lm = ols(f'Q({7*j}) ~ Class',data=temp_to_anova).fit()\n",
    "    _p = sm.stats.anova_lm(lm)['PR(>F)']['Class']\n",
    "    _ps += [_p]\n",
    "    if _p <0.05:\n",
    "        print(f\"{j}: {_p:.2f}\")"
   ]
  },
  {
   "cell_type": "markdown",
   "metadata": {},
   "source": [
    "## ANOVA for Precipitation"
   ]
  },
  {
   "cell_type": "code",
   "execution_count": 19,
   "metadata": {},
   "outputs": [],
   "source": [
    "prec_to_anova = []\n",
    "for i in range(0,4):\n",
    "    mean_prec = get_moving_sum(min_prec)[[year for year in a_classified[a_classified['Class 4']==i]['Year'] if year in min_prec.columns]]\n",
    "    _prec_to_anova = mean_prec[7::7].T.reset_index().rename({'index':'Year'}, axis=1)\n",
    "    _prec_to_anova['Class'] = [i+1] * len(_prec_to_anova)\n",
    "    prec_to_anova += [_prec_to_anova]\n",
    "prec_to_anova = pd.concat(prec_to_anova)"
   ]
  },
  {
   "cell_type": "code",
   "execution_count": 20,
   "metadata": {},
   "outputs": [
    {
     "name": "stdout",
     "output_type": "stream",
     "text": [
      "21: 0.01\n",
      "40: 0.01\n"
     ]
    }
   ],
   "source": [
    "for j in range(12,46):\n",
    "    lm = ols(f'Q({7*j}) ~ Class',data=prec_to_anova).fit()\n",
    "    _p = sm.stats.anova_lm(lm)['PR(>F)']['Class']\n",
    "    if _p <0.05:\n",
    "        print(f\"{j}: {_p:.2f}\")"
   ]
  },
  {
   "cell_type": "markdown",
   "metadata": {},
   "source": [
    "# Kruskal–Wallis test"
   ]
  },
  {
   "cell_type": "code",
   "execution_count": 21,
   "metadata": {},
   "outputs": [],
   "source": [
    "from scipy.stats import mannwhitneyu"
   ]
  },
  {
   "cell_type": "code",
   "execution_count": 22,
   "metadata": {},
   "outputs": [
    {
     "name": "stdout",
     "output_type": "stream",
     "text": [
      "Temp\n",
      "9 8.861712011284014 0.031187139969827127\n",
      "10 11.17474379650355 0.010817540652059943\n",
      "12 7.904339870028564 0.048030641113517375\n",
      "20 9.726197106405545 0.021042855954674623\n",
      "21 9.028513499481512 0.02891417633118446\n",
      "Prec\n",
      "7 9.800523948779903 0.02034012639612841\n",
      "10 10.300988175227852 0.01617350100074091\n",
      "19 8.128461909957418 0.04343006731911003\n",
      "29 10.251322663533552 0.01654627910602947\n",
      "44 8.658625207132223 0.03419143862089558\n",
      "52 8.05647417807848 0.04485886006398594\n"
     ]
    }
   ],
   "source": [
    "from scipy.stats import mstats\n",
    "\n",
    "def get_class_values(df, cl, col):\n",
    "    return list(df[df['Class']==cl][col])\n",
    "\n",
    "print('Temp')\n",
    "for column in temp_to_anova.columns:\n",
    "\n",
    "    if column == 'Year' or column == 'Class':\n",
    "        continue\n",
    "    s, p = mstats.kruskalwallis(get_class_values(temp_to_anova, 1, column),\n",
    "                                get_class_values(temp_to_anova, 2, column),\n",
    "                                get_class_values(temp_to_anova, 3, column),\n",
    "                                get_class_values(temp_to_anova, 4, column))\n",
    "    if p < 0.05:\n",
    "        print(column//7, s, p)\n",
    "\n",
    "print('Prec')\n",
    "for column in prec_to_anova.columns:\n",
    "\n",
    "    if column == 'Year' or column == 'Class':\n",
    "        continue\n",
    "    s, p = mstats.kruskalwallis(get_class_values(prec_to_anova, 1, column),\n",
    "                                get_class_values(prec_to_anova, 2, column),\n",
    "                                get_class_values(prec_to_anova, 3, column),\n",
    "                                get_class_values(prec_to_anova, 4, column))\n",
    "    if p < 0.05:\n",
    "        print(column//7, s, p)"
   ]
  },
  {
   "cell_type": "code",
   "execution_count": null,
   "metadata": {},
   "outputs": [],
   "source": []
  }
 ],
 "metadata": {
  "interpreter": {
   "hash": "ea00faadcfb8ab3c64085c6facc6f20135a21130ce7141e34f66da8bb95f9659"
  },
  "kernelspec": {
   "display_name": "Python 3.9.4 64-bit",
   "name": "python3"
  },
  "language_info": {
   "codemirror_mode": {
    "name": "ipython",
    "version": 3
   },
   "file_extension": ".py",
   "mimetype": "text/x-python",
   "name": "python",
   "nbconvert_exporter": "python",
   "pygments_lexer": "ipython3",
   "version": "3.9.7"
  },
  "orig_nbformat": 4
 },
 "nbformat": 4,
 "nbformat_minor": 2
}
