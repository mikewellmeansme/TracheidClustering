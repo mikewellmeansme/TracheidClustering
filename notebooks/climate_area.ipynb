{
 "cells": [
  {
   "cell_type": "code",
   "execution_count": 1,
   "metadata": {},
   "outputs": [],
   "source": [
    "import sys \n",
    "sys.path.append('..')"
   ]
  },
  {
   "cell_type": "code",
   "execution_count": 2,
   "metadata": {},
   "outputs": [],
   "source": [
    "import pandas as pd\n",
    "import numpy as np\n",
    "import matplotlib.pyplot as plt\n",
    "import matplotlib.dates as mdates\n",
    "from datetime import date\n",
    "from numpy import trapz"
   ]
  },
  {
   "cell_type": "code",
   "execution_count": 3,
   "metadata": {},
   "outputs": [],
   "source": [
    "min_temp = pd.read_excel('../input/MinClimate.xlsx', sheet_name='Temp')\n",
    "min_prec = pd.read_excel('../input/MinClimate.xlsx', sheet_name='Prec')\n",
    "a_classified = pd.read_excel('../input/quotient_deviation_df_A_CLASSIFIED.xlsx')\n",
    "b_classified = pd.read_excel('../input/quotient_deviation_df_B_CLASSIFIED_FIXED.xlsx')"
   ]
  },
  {
   "cell_type": "code",
   "execution_count": 4,
   "metadata": {},
   "outputs": [],
   "source": [
    "monthly_temp = pd.DataFrame({'Year':list(min_temp.columns[2:])})\n",
    "monthly_prec = pd.DataFrame({'Year':list(min_prec.columns[2:])})\n",
    "\n",
    "months_names = ['', 'January', 'February', 'March',\n",
    "                'April', 'May', 'June', 'July',\n",
    "                'August', 'September', 'October',\n",
    "                'November', 'December']\n",
    "\n",
    "for i in range(1,13):\n",
    "    monthly_temp[months_names[i]] = list(min_temp[min_temp['Month']==i].mean(skipna=True)[2:])\n",
    "    monthly_prec[months_names[i]] = list(min_prec[min_prec['Month']==i].sum(skipna=True)[2:])"
   ]
  },
  {
   "cell_type": "code",
   "execution_count": 5,
   "metadata": {},
   "outputs": [],
   "source": [
    "def get_moving_avg(df, window=7, nanmean=False):\n",
    "    \"\"\"\n",
    "    Возвращает скользящее средние для температуры\n",
    "    window : окно\n",
    "    nanmean : используем nanmean для сглаживания? (тогда потеряются данные по краям)\n",
    "    \"\"\"\n",
    "    month = df['Month']\n",
    "    day = df['Day']\n",
    "    if nanmean:\n",
    "        result = df.rolling(window=window, center=True).apply(np.nanmean)\n",
    "    else:\n",
    "        result = df.rolling(window=window, center=True, min_periods=1).mean()\n",
    "    result['Month'] = month\n",
    "    result['Day'] = day\n",
    "    return result\n",
    "\n",
    "def get_moving_sum(df, window=7):\n",
    "    \"\"\"\n",
    "    Возвращает скользящую сумму для осадков\n",
    "    window : окно\n",
    "    \"\"\"\n",
    "    month = df['Month']\n",
    "    day = df['Day']\n",
    "    result = df.rolling(window=window, center=True, min_periods=1).sum()\n",
    "    result['Month'] = month\n",
    "    result['Day'] = day\n",
    "    return result\n",
    "\n",
    "def list_to_cumulative(lst):\n",
    "    return [np.nansum(lst[:i+1]) for i in range(len(lst))]"
   ]
  },
  {
   "cell_type": "code",
   "execution_count": 6,
   "metadata": {},
   "outputs": [],
   "source": [
    "first_day = 91 +30 #, +44, +61\n",
    "last_day = -61 -31"
   ]
  },
  {
   "cell_type": "code",
   "execution_count": 7,
   "metadata": {},
   "outputs": [
    {
     "name": "stderr",
     "output_type": "stream",
     "text": [
      "C:\\Users\\Mikhail\\AppData\\Local\\Temp/ipykernel_19240/2778286170.py:2: SettingWithCopyWarning: \n",
      "A value is trying to be set on a copy of a slice from a DataFrame.\n",
      "Try using .loc[row_indexer,col_indexer] = value instead\n",
      "\n",
      "See the caveats in the documentation: https://pandas.pydata.org/pandas-docs/stable/user_guide/indexing.html#returning-a-view-versus-a-copy\n",
      "  date_df['Year'] = [2000 for _ in range(len(date_df))]\n"
     ]
    }
   ],
   "source": [
    "date_df = min_temp[['Month', 'Day']]\n",
    "date_df['Year'] = [2000 for _ in range(len(date_df))]\n",
    "x = pd.to_datetime(date_df)[first_day:last_day]\n",
    "\n",
    "mean_temps = []\n",
    "mean_precs = []\n",
    "\n",
    "fig, ax = plt.subplots(nrows=4, ncols=2, dpi=300, figsize=(10, 12))\n",
    "plt.subplots_adjust(bottom=0.03, top=0.95)\n",
    "\n",
    "\n",
    "for i in range(4):\n",
    "    mean_temp = get_moving_avg(min_temp)[[year for year in a_classified[a_classified['Class 4']==i]['Year'] if year in min_temp.columns]]\n",
    "    y = mean_temp.mean(axis=1)[first_day:last_day]\n",
    "    mean_temps += [y]\n",
    "    dy = mean_temp.std(axis=1)[first_day:last_day]\n",
    "\n",
    "    ax[i, 0].fill_between(x, y-dy, y+dy, color='red', alpha=0.2)\n",
    "    ax[i, 0].plot(x, y, c='red')\n",
    "\n",
    "    mean_prec = get_moving_avg(min_prec)[[year for year in a_classified[a_classified['Class 4']==i]['Year'] if year in min_prec.columns]]\n",
    "    y = mean_prec.mean(axis=1)[first_day:last_day]\n",
    "    mean_precs += [list_to_cumulative(y)]\n",
    "    dy = mean_prec.std(axis=1)[first_day:last_day]\n",
    "    \n",
    "    ax2 = ax[i, 0].twinx()\n",
    "    #ax2.fill_between(x, [0 for _ in y], list_to_cumulative(y), color='blue', alpha=0.1)\n",
    "    ax2.plot(x, np.array(list_to_cumulative(y)), color='blue')\n",
    "    ax2.set_ylim([0, 350])\n",
    "    \n",
    "    ax[i, 0].set_ylabel('Temperature (°C)')\n",
    "    ax2.set_ylabel('Precipitation (mm)')\n",
    "    ax[i, 0].set_zorder(1)  # default zorder is 0 for ax1 and ax2\n",
    "    ax[i, 0].patch.set_visible(False)  # prevents ax1 from hiding ax2\n",
    "\n",
    "    locator = mdates.AutoDateLocator(minticks=3, maxticks=7)\n",
    "    formatter = mdates.ConciseDateFormatter(locator)\n",
    "    ax[i, 0].xaxis.set_major_locator(locator)\n",
    "    ax[i, 0].xaxis.set_major_formatter(formatter)\n",
    "    locator = mdates.AutoDateLocator(minticks=3, maxticks=7)\n",
    "    formatter = mdates.ConciseDateFormatter(locator)\n",
    "    ax[i, 1].xaxis.set_major_locator(locator)\n",
    "    ax[i, 1].xaxis.set_major_formatter(formatter)\n",
    "    #ax.set_xlim([date(2000, 4, 1), date(2000, 10, 30)])\n",
    "    ax[i, 0].set_ylim([0, 25])\n",
    "\n",
    "    selected = a_classified[a_classified['Class 4']==i]\n",
    "    temp_to_plot = monthly_temp.loc[monthly_temp['Year'].isin(list(selected['Year']))]\n",
    "    \n",
    "\n",
    "    ax[i, 0].set_title(f'{i+1} Class')\n",
    "    ax[i, 1].set_title(f'{i+1} Class')\n",
    "    ax[i, 1].yaxis.tick_right()\n",
    "    #plt.savefig(f'../output/{i+1} Class (d&cwt)', dpi=300)\n",
    "\n",
    "temp_max = max([max(el) for el in mean_temps])\n",
    "prec_max = max([max(el) for el in mean_precs])\n",
    "temp_min = min([min(el) for el in mean_temps])\n",
    "prec_min = min([min(el) for el in mean_precs])\n",
    "\n",
    "scaled_mean_temps = [(np.array(el) - temp_min) / (temp_max - temp_min) for el in mean_temps]\n",
    "scaled_mean_precs =  [(np.array(el) - prec_min) / (prec_max - prec_min) for el in mean_precs]\n",
    "\n",
    "i = 0\n",
    "for el in scaled_mean_temps:\n",
    "    ax[i, 1].plot(x, el, color='black', label=f'Class {i+1}')\n",
    "    i += 1\n",
    "i = 0\n",
    "for el in scaled_mean_precs:\n",
    "    ax[i, 1].plot(x, el, color='black')\n",
    "    i += 1\n",
    "\n",
    "i=0\n",
    "for el1, el2 in zip(scaled_mean_temps, scaled_mean_precs):\n",
    "    index = el2 < el1\n",
    "    ax[i, 1].fill_between(x.iloc[np.arange(0, len(el1[index]))], el1[index], el2[index], color='black', alpha=0.2)\n",
    "    i+=1\n",
    "\n",
    "plt.savefig('../output/climate_classes.png', dpi=300)\n",
    "plt.close(fig)"
   ]
  },
  {
   "cell_type": "code",
   "execution_count": 77,
   "metadata": {},
   "outputs": [],
   "source": [
    "def find_area_between_temp_prec(temp: np.array, prec: np.array, trapz_rule=True):\n",
    "    if len(temp) != len(prec):\n",
    "        raise Exception('Arrays are not the same length!')\n",
    "    index = prec < temp\n",
    "    if trapz_rule:\n",
    "        return trapz(temp[index]) - trapz(prec[index])\n",
    "    else:\n",
    "        return sum(temp[index] - prec[index])"
   ]
  },
  {
   "cell_type": "code",
   "execution_count": 28,
   "metadata": {},
   "outputs": [
    {
     "name": "stdout",
     "output_type": "stream",
     "text": [
      "Class 1 : 52.7570713306728\n",
      "Class 2 : 61.64547924899232\n",
      "Class 3 : 67.34603209200708\n",
      "Class 4 : 65.82822902367121\n"
     ]
    }
   ],
   "source": [
    "i = 1\n",
    "for temp, prec in zip(scaled_mean_temps, scaled_mean_precs):\n",
    "    print('Class', i, ':', find_area_between_temp_prec(temp, prec))\n",
    "    i += 1"
   ]
  },
  {
   "cell_type": "markdown",
   "metadata": {},
   "source": [
    "# Area calulating for every year"
   ]
  },
  {
   "cell_type": "code",
   "execution_count": 98,
   "metadata": {},
   "outputs": [],
   "source": [
    "first_day = 91 # +14 +30 +44 +61 \n",
    "last_day = -61 -31"
   ]
  },
  {
   "cell_type": "code",
   "execution_count": 99,
   "metadata": {},
   "outputs": [],
   "source": [
    "temp_df = get_moving_avg(min_temp)[first_day:last_day].reset_index(drop=True)\n",
    "\n",
    "scaled_temp_df = (temp_df - min(temp_df.min()[2:])) / (max(temp_df.max()[2:]) - min(temp_df.min()[2:]))\n",
    "scaled_temp_df['Month'] = temp_df['Month']\n",
    "scaled_temp_df['Day'] = temp_df['Day']"
   ]
  },
  {
   "cell_type": "code",
   "execution_count": 100,
   "metadata": {},
   "outputs": [],
   "source": [
    "cum_prec = {\n",
    "    'Month': list(min_prec['Month']),\n",
    "    'Day': list(min_prec['Day'])\n",
    "}\n",
    "for column in min_prec.columns:\n",
    "    if column in ['Day', 'Month']:\n",
    "        continue\n",
    "    cum_prec[column] = list_to_cumulative(min_prec[column])\n",
    "cum_prec = pd.DataFrame(cum_prec)"
   ]
  },
  {
   "cell_type": "code",
   "execution_count": 101,
   "metadata": {},
   "outputs": [],
   "source": [
    "prec_df = get_moving_avg(cum_prec)[first_day:last_day].reset_index(drop=True)\n",
    "scaled_prec_df = (prec_df - min(prec_df.min()[2:])) / (max(prec_df.max()[2:]) - min(prec_df.min()[2:]))\n",
    "scaled_prec_df['Month'] = prec_df['Month']\n",
    "scaled_prec_df['Day'] = prec_df['Day']"
   ]
  },
  {
   "cell_type": "code",
   "execution_count": 102,
   "metadata": {},
   "outputs": [],
   "source": [
    "areas = []\n",
    "\n",
    "for column in scaled_prec_df.columns:\n",
    "    if column in ['Day', 'Month']:\n",
    "        continue\n",
    "    a = find_area_between_temp_prec(scaled_temp_df[column], scaled_prec_df[column], False)\n",
    "    areas += [ a if a != 0 else np.nan]"
   ]
  },
  {
   "cell_type": "markdown",
   "metadata": {},
   "source": [
    "----------------"
   ]
  },
  {
   "cell_type": "code",
   "execution_count": 79,
   "metadata": {},
   "outputs": [],
   "source": [
    "areas_df = {'Year': scaled_prec_df.columns[2:], 'Area April_1st':areas}"
   ]
  },
  {
   "cell_type": "code",
   "execution_count": 91,
   "metadata": {},
   "outputs": [],
   "source": [
    "areas_df['Area May_1st'] = areas"
   ]
  },
  {
   "cell_type": "code",
   "execution_count": 56,
   "metadata": {},
   "outputs": [
    {
     "data": {
      "text/plain": [
       "[<matplotlib.lines.Line2D at 0xffc1fc95b0>]"
      ]
     },
     "execution_count": 56,
     "metadata": {},
     "output_type": "execute_result"
    },
    {
     "data": {
      "image/png": "[encoded data removed]",
      "text/plain": [
       "<Figure size 432x288 with 1 Axes>"
      ]
     },
     "metadata": {
      "needs_background": "light"
     },
     "output_type": "display_data"
    }
   ],
   "source": [
    "plt.plot(scaled_prec_df.columns[2:], areas)"
   ]
  },
  {
   "cell_type": "code",
   "execution_count": 57,
   "metadata": {},
   "outputs": [],
   "source": [
    "pd.DataFrame().to_csv('../output/Year_Areas_difference_fixed.csv', index=False)"
   ]
  },
  {
   "cell_type": "code",
   "execution_count": 104,
   "metadata": {},
   "outputs": [],
   "source": [
    "pd.DataFrame(areas_df).to_excel('../output/Year_Areas_EXPERIMENT.xlsx', index=False)"
   ]
  },
  {
   "cell_type": "code",
   "execution_count": null,
   "metadata": {},
   "outputs": [],
   "source": []
  }
 ],
 "metadata": {
  "interpreter": {
   "hash": "ea00faadcfb8ab3c64085c6facc6f20135a21130ce7141e34f66da8bb95f9659"
  },
  "kernelspec": {
   "display_name": "Python 3.9.4 64-bit",
   "name": "python3"
  },
  "language_info": {
   "codemirror_mode": {
    "name": "ipython",
    "version": 3
   },
   "file_extension": ".py",
   "mimetype": "text/x-python",
   "name": "python",
   "nbconvert_exporter": "python",
   "pygments_lexer": "ipython3",
   "version": "3.9.7"
  },
  "orig_nbformat": 4
 },
 "nbformat": 4,
 "nbformat_minor": 2
}
