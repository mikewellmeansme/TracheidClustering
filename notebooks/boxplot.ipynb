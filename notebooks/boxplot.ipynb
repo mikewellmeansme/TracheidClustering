{
 "cells": [
  {
   "cell_type": "code",
   "execution_count": 2,
   "metadata": {},
   "outputs": [],
   "source": [
    "import sys \n",
    "sys.path.append('..')"
   ]
  },
  {
   "cell_type": "code",
   "execution_count": 3,
   "metadata": {},
   "outputs": [],
   "source": [
    "import pandas as pd\n",
    "import matplotlib.pyplot as plt"
   ]
  },
  {
   "cell_type": "code",
   "execution_count": 3,
   "metadata": {},
   "outputs": [],
   "source": [
    "a_classified = pd.read_excel('../input/quotient_deviation_df_A_CLASSIFIED.xlsx')\n",
    "b_classified = pd.read_excel('../input/quotient_deviation_df_B_CLASSIFIED_FIXED.xlsx')"
   ]
  },
  {
   "cell_type": "code",
   "execution_count": 19,
   "metadata": {},
   "outputs": [],
   "source": [
    "c1 = a_classified[a_classified['Class 4']==0]\n",
    "c2 = a_classified[a_classified['Class 4']==1]\n",
    "c3 = a_classified[a_classified['Class 4']==2]\n",
    "c4 = a_classified[a_classified['Class 4']==3]"
   ]
  },
  {
   "cell_type": "code",
   "execution_count": null,
   "metadata": {},
   "outputs": [],
   "source": [
    "for i in range(1,16):\n",
    "    plt.boxplot([c1[f'D{i}'], c2[f'D{i}'], c3[f'D{i}'], c4[f'D{i}']])\n",
    "    plt.title(f'D{i}')\n",
    "    plt.show()"
   ]
  },
  {
   "cell_type": "code",
   "execution_count": null,
   "metadata": {},
   "outputs": [],
   "source": [
    "for i in range(1,16):\n",
    "    plt.boxplot([c1[f'CWT{i}'], c2[f'CWT{i}'], c3[f'CWT{i}'], c4[f'CWT{i}']])\n",
    "    plt.title(f'CWT{i}')\n",
    "    plt.show()"
   ]
  },
  {
   "cell_type": "code",
   "execution_count": 29,
   "metadata": {},
   "outputs": [
    {
     "data": {
      "image/png": "[encoded data removed]",
      "text/plain": [
       "<Figure size 432x288 with 1 Axes>"
      ]
     },
     "metadata": {
      "needs_background": "light"
     },
     "output_type": "display_data"
    }
   ],
   "source": [
    "d1 = c1.iloc[:,1:16].mean(axis=1)\n",
    "d2 = c2.iloc[:,1:16].mean(axis=1)\n",
    "d3 = c3.iloc[:,1:16].mean(axis=1)\n",
    "d4 = c4.iloc[:,1:16].mean(axis=1)\n",
    "\n",
    "plt.boxplot([d1, d2, d3, d4])\n",
    "plt.title('Diam')\n",
    "plt.show()"
   ]
  },
  {
   "cell_type": "code",
   "execution_count": 31,
   "metadata": {},
   "outputs": [
    {
     "data": {
      "image/png": "[encoded data removed]",
      "text/plain": [
       "<Figure size 432x288 with 1 Axes>"
      ]
     },
     "metadata": {
      "needs_background": "light"
     },
     "output_type": "display_data"
    }
   ],
   "source": [
    "cwt1 = c1.iloc[:,16:31].mean(axis=1)\n",
    "cwt2 = c2.iloc[:,16:31].mean(axis=1)\n",
    "cwt3 = c3.iloc[:,16:31].mean(axis=1)\n",
    "cwt4 = c4.iloc[:,16:31].mean(axis=1)\n",
    "\n",
    "plt.boxplot([cwt1, cwt2, cwt3, cwt4])\n",
    "plt.title('CWT')\n",
    "plt.show()"
   ]
  },
  {
   "cell_type": "markdown",
   "metadata": {},
   "source": [
    "# BoxPlot for Areas"
   ]
  },
  {
   "cell_type": "code",
   "execution_count": 4,
   "metadata": {},
   "outputs": [],
   "source": [
    "areas = pd.read_excel('../input/Year_Areas_difference_fixed.xlsx')"
   ]
  },
  {
   "cell_type": "code",
   "execution_count": 5,
   "metadata": {},
   "outputs": [],
   "source": [
    "c1 = areas[areas['Class']==0]\n",
    "c2 = areas[areas['Class']==1]\n",
    "c3 = areas[areas['Class']==2]\n",
    "c4 = areas[areas['Class']==3]"
   ]
  },
  {
   "cell_type": "code",
   "execution_count": 11,
   "metadata": {},
   "outputs": [
    {
     "data": {
      "image/png": "[encoded data removed]",
      "text/plain": [
       "<Figure size 432x288 with 1 Axes>"
      ]
     },
     "metadata": {
      "needs_background": "light"
     },
     "output_type": "display_data"
    }
   ],
   "source": [
    "plt.boxplot([c1[1:]['Area'], c2['Area'], c3['Area'], c4['Area']])\n",
    "plt.title('Area')\n",
    "plt.show()"
   ]
  },
  {
   "cell_type": "markdown",
   "metadata": {},
   "source": [
    "Statistical difference:"
   ]
  },
  {
   "cell_type": "code",
   "execution_count": 15,
   "metadata": {},
   "outputs": [
    {
     "data": {
      "text/plain": [
       "KruskalResult(statistic=11.597331123578272, pvalue=0.008897874419649555)"
      ]
     },
     "execution_count": 15,
     "metadata": {},
     "output_type": "execute_result"
    }
   ],
   "source": [
    "from scipy.stats import mstats\n",
    "\n",
    "mstats.kruskalwallis(list(c1[1:]['Area']), list(c2['Area']), list(c3['Area']), list(c4['Area']))"
   ]
  },
  {
   "cell_type": "code",
   "execution_count": null,
   "metadata": {},
   "outputs": [],
   "source": []
  }
 ],
 "metadata": {
  "interpreter": {
   "hash": "ea00faadcfb8ab3c64085c6facc6f20135a21130ce7141e34f66da8bb95f9659"
  },
  "kernelspec": {
   "display_name": "Python 3.9.4 64-bit",
   "name": "python3"
  },
  "language_info": {
   "codemirror_mode": {
    "name": "ipython",
    "version": 3
   },
   "file_extension": ".py",
   "mimetype": "text/x-python",
   "name": "python",
   "nbconvert_exporter": "python",
   "pygments_lexer": "ipython3",
   "version": "3.9.7"
  },
  "orig_nbformat": 4
 },
 "nbformat": 4,
 "nbformat_minor": 2
}
