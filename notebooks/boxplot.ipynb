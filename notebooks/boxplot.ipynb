{
 "cells": [
  {
   "cell_type": "code",
   "execution_count": 1,
   "metadata": {},
   "outputs": [],
   "source": [
    "import os,sys,inspect\n",
    "current_dir = os.path.dirname(os.path.abspath(inspect.getfile(inspect.currentframe())))\n",
    "parent_dir = os.path.dirname(current_dir)\n",
    "sys.path.insert(0, parent_dir)"
   ]
  },
  {
   "cell_type": "code",
   "execution_count": 7,
   "metadata": {},
   "outputs": [],
   "source": [
    "import pandas as pd\n",
    "import matplotlib.pyplot as plt"
   ]
  },
  {
   "cell_type": "code",
   "execution_count": 3,
   "metadata": {},
   "outputs": [],
   "source": [
    "a_classified = pd.read_excel('../input/quotient_deviation_df_A_CLASSIFIED.xlsx')\n",
    "b_classified = pd.read_excel('../input/quotient_deviation_df_B_CLASSIFIED_FIXED.xlsx')"
   ]
  },
  {
   "cell_type": "code",
   "execution_count": 19,
   "metadata": {},
   "outputs": [],
   "source": [
    "c1 = a_classified[a_classified['Class 4']==0]\n",
    "c2 = a_classified[a_classified['Class 4']==1]\n",
    "c3 = a_classified[a_classified['Class 4']==2]\n",
    "c4 = a_classified[a_classified['Class 4']==3]"
   ]
  },
  {
   "cell_type": "code",
   "execution_count": null,
   "metadata": {},
   "outputs": [],
   "source": [
    "for i in range(1,16):\n",
    "    plt.boxplot([c1[f'D{i}'], c2[f'D{i}'], c3[f'D{i}'], c4[f'D{i}']])\n",
    "    plt.title(f'D{i}')\n",
    "    plt.show()"
   ]
  },
  {
   "cell_type": "code",
   "execution_count": null,
   "metadata": {},
   "outputs": [],
   "source": [
    "for i in range(1,16):\n",
    "    plt.boxplot([c1[f'CWT{i}'], c2[f'CWT{i}'], c3[f'CWT{i}'], c4[f'CWT{i}']])\n",
    "    plt.title(f'CWT{i}')\n",
    "    plt.show()"
   ]
  },
  {
   "cell_type": "code",
   "execution_count": 29,
   "metadata": {},
   "outputs": [
    {
     "data": {
      "image/png": "[encoded data removed]",
      "text/plain": [
       "<Figure size 432x288 with 1 Axes>"
      ]
     },
     "metadata": {
      "needs_background": "light"
     },
     "output_type": "display_data"
    }
   ],
   "source": [
    "d1 = c1.iloc[:,1:16].mean(axis=1)\n",
    "d2 = c2.iloc[:,1:16].mean(axis=1)\n",
    "d3 = c3.iloc[:,1:16].mean(axis=1)\n",
    "d4 = c4.iloc[:,1:16].mean(axis=1)\n",
    "\n",
    "plt.boxplot([d1, d2, d3, d4])\n",
    "plt.title('Diam')\n",
    "plt.show()"
   ]
  },
  {
   "cell_type": "code",
   "execution_count": 31,
   "metadata": {},
   "outputs": [
    {
     "data": {
      "image/png": "[encoded data removed]",
      "text/plain": [
       "<Figure size 432x288 with 1 Axes>"
      ]
     },
     "metadata": {
      "needs_background": "light"
     },
     "output_type": "display_data"
    }
   ],
   "source": [
    "cwt1 = c1.iloc[:,16:31].mean(axis=1)\n",
    "cwt2 = c2.iloc[:,16:31].mean(axis=1)\n",
    "cwt3 = c3.iloc[:,16:31].mean(axis=1)\n",
    "cwt4 = c4.iloc[:,16:31].mean(axis=1)\n",
    "\n",
    "plt.boxplot([cwt1, cwt2, cwt3, cwt4])\n",
    "plt.title('CWT')\n",
    "plt.show()"
   ]
  },
  {
   "cell_type": "code",
   "execution_count": null,
   "metadata": {},
   "outputs": [],
   "source": []
  }
 ],
 "metadata": {
  "interpreter": {
   "hash": "ea00faadcfb8ab3c64085c6facc6f20135a21130ce7141e34f66da8bb95f9659"
  },
  "kernelspec": {
   "display_name": "Python 3.9.4 64-bit",
   "name": "python3"
  },
  "language_info": {
   "codemirror_mode": {
    "name": "ipython",
    "version": 3
   },
   "file_extension": ".py",
   "mimetype": "text/x-python",
   "name": "python",
   "nbconvert_exporter": "python",
   "pygments_lexer": "ipython3",
   "version": "3.9.4"
  },
  "orig_nbformat": 4
 },
 "nbformat": 4,
 "nbformat_minor": 2
}
